{
 "cells": [
  {
   "cell_type": "code",
   "execution_count": null,
   "id": "initial_id",
   "metadata": {
    "collapsed": true
   },
   "outputs": [],
   "source": [
    "import pandas as pd\n",
    "import numpy as np\n",
    "import scanpy as sc\n",
    "import anndata as ad\n",
    "import scipy.io\n",
    "import matplotlib.pyplot as plt\n",
    "import os\n",
    "import sys\n",
    "\n",
    "import STitch3D\n",
    "\n",
    "import warnings\n",
    "warnings.filterwarnings(\"ignore\")\n",
    "\n",
    "os.environ[\"CUDA_VISIBLE_DEVICES\"] = \"0\""
   ]
  },
  {
   "cell_type": "code",
   "execution_count": null,
   "outputs": [],
   "source": [
    "mat = scipy.io.mmread(\"GSE144136_GeneBarcodeMatrix_Annotated.mtx\")\n",
    "meta = pd.read_csv(\"GSE144136_CellNames.csv\", index_col=0)\n",
    "meta.index = meta.x.values\n",
    "group = [i.split('.')[1].split('_')[0] for i in list(meta.x.values)]\n",
    "condition = [i.split('.')[1].split('_')[1] for i in list(meta.x.values)]\n",
    "celltype = [i.split('.')[0] for i in list(meta.x.values)]\n",
    "meta[\"group\"] = group\n",
    "meta[\"condition\"] = condition\n",
    "meta[\"celltype\"] = celltype\n",
    "genename = pd.read_csv(\"GSE144136_GeneNames.csv\", index_col=0)\n",
    "genename.index = genename.x.values\n",
    "adata_ref = ad.AnnData(X=mat.tocsr().T)\n",
    "adata_ref.obs = meta\n",
    "adata_ref.var = genename\n",
    "adata_ref = adata_ref[adata_ref.obs.condition.values.astype(str)==\"Control\", :]"
   ],
   "metadata": {
    "collapsed": false,
    "is_executing": true
   },
   "id": "8875e03b87f54b0e"
  },
  {
   "cell_type": "code",
   "execution_count": null,
   "outputs": [],
   "source": [
    "#spatial data\n",
    "anno_df = pd.read_csv('barcode_level_layer_map.tsv', sep='\\t', header=None)\n",
    "\n",
    "slice_idx = [151507, 151508, 151509, 151510]\n",
    "\n",
    "adata_st1 = sc.read_visium(path=\"../../data/DLPFC/%d\" % slice_idx[0],\n",
    "                          count_file=\"%d_filtered_feature_bc_matrix.h5\" % slice_idx[0])\n",
    "anno_df1 = anno_df.iloc[anno_df[1].values.astype(str) == str(slice_idx[0])]\n",
    "anno_df1.columns = [\"barcode\", \"slice_id\", \"layer\"]\n",
    "anno_df1.index = anno_df1['barcode']\n",
    "adata_st1.obs = adata_st1.obs.join(anno_df1, how=\"left\")\n",
    "adata_st1 = adata_st1[adata_st1.obs['layer'].notna()]\n",
    "\n",
    "adata_st2 = sc.read_visium(path=\"../../data/DLPFC/%d\" % slice_idx[1],\n",
    "                          count_file=\"%d_filtered_feature_bc_matrix.h5\" % slice_idx[1])\n",
    "anno_df2 = anno_df.iloc[anno_df[1].values.astype(str) == str(slice_idx[1])]\n",
    "anno_df2.columns = [\"barcode\", \"slice_id\", \"layer\"]\n",
    "anno_df2.index = anno_df2['barcode']\n",
    "adata_st2.obs = adata_st2.obs.join(anno_df2, how=\"left\")\n",
    "adata_st2 = adata_st2[adata_st2.obs['layer'].notna()]\n",
    "\n",
    "adata_st3 = sc.read_visium(path=\"../../data/DLPFC/%d\" % slice_idx[2],\n",
    "                          count_file=\"%d_filtered_feature_bc_matrix.h5\" % slice_idx[2])\n",
    "anno_df3 = anno_df.iloc[anno_df[1].values.astype(str) == str(slice_idx[2])]\n",
    "anno_df3.columns = [\"barcode\", \"slice_id\", \"layer\"]\n",
    "anno_df3.index = anno_df3['barcode']\n",
    "adata_st3.obs = adata_st3.obs.join(anno_df3, how=\"left\")\n",
    "adata_st3 = adata_st3[adata_st3.obs['layer'].notna()]\n",
    "\n",
    "adata_st4 = sc.read_visium(path=\"../../data/DLPFC/%d\" % slice_idx[3],\n",
    "                          count_file=\"%d_filtered_feature_bc_matrix.h5\" % slice_idx[3])\n",
    "anno_df4 = anno_df.iloc[anno_df[1].values.astype(str) == str(slice_idx[3])]\n",
    "anno_df4.columns = [\"barcode\", \"slice_id\", \"layer\"]\n",
    "anno_df4.index = anno_df4['barcode']\n",
    "adata_st4.obs = adata_st4.obs.join(anno_df4, how=\"left\")\n",
    "adata_st4 = adata_st4[adata_st4.obs['layer'].notna()]"
   ],
   "metadata": {
    "collapsed": false
   },
   "id": "85117b99e66222f4"
  },
  {
   "cell_type": "code",
   "execution_count": null,
   "outputs": [],
   "source": [
    "adata_st_list_raw = [adata_st1, adata_st2, adata_st3, adata_st4]\n",
    "adata_st_list = STitch3D.utils.align_spots(adata_st_list_raw, plot=True)"
   ],
   "metadata": {
    "collapsed": false
   },
   "id": "86c78e814be2a07"
  },
  {
   "cell_type": "code",
   "execution_count": null,
   "outputs": [],
   "source": [
    "celltype_list_use = ['Astros_1', 'Astros_2', 'Astros_3', 'Endo', 'Micro/Macro',\n",
    "                     'Oligos_1', 'Oligos_2', 'Oligos_3',\n",
    "                     'Ex_1_L5_6', 'Ex_2_L5', 'Ex_3_L4_5', 'Ex_4_L_6', 'Ex_5_L5',\n",
    "                     'Ex_6_L4_6', 'Ex_7_L4_6', 'Ex_8_L5_6', 'Ex_9_L5_6', 'Ex_10_L2_4']\n",
    "\n",
    "adata_st, adata_basis = STitch3D.utils.preprocess(adata_st_list,\n",
    "                                                  adata_ref,\n",
    "                                                  celltype_ref=celltype_list_use,\n",
    "                                                  sample_col=\"group\",\n",
    "                                                  slice_dist_micron=[10., 300., 10.],\n",
    "                                                  n_hvg_group=500)"
   ],
   "metadata": {
    "collapsed": false
   },
   "id": "dc8a48011cfce867"
  },
  {
   "cell_type": "code",
   "execution_count": null,
   "outputs": [],
   "source": [
    "model = STitch3D.model.Model(adata_st, adata_basis)\n",
    "\n",
    "model.train()"
   ],
   "metadata": {
    "collapsed": false
   },
   "id": "90911b787f51fbf3"
  },
  {
   "cell_type": "code",
   "execution_count": null,
   "outputs": [],
   "source": [
    "save_path = \"./results_DLPFC\"\n",
    "result = model.eval(adata_st_list_raw, save=True, output_path=save_path)"
   ],
   "metadata": {
    "collapsed": false
   },
   "id": "22fea8d640afe21e"
  },
  {
   "cell_type": "code",
   "execution_count": null,
   "outputs": [],
   "source": [
    "from sklearn.mixture import GaussianMixture\n",
    "\n",
    "np.random.seed(1234)\n",
    "gm = GaussianMixture(n_components=7, covariance_type='tied', init_params='kmeans')\n",
    "y = gm.fit_predict(model.adata_st.obsm['latent'], y=None)\n",
    "model.adata_st.obs[\"GM\"] = y\n",
    "model.adata_st.obs[\"GM\"].to_csv(os.path.join(save_path, \"clustering_result.csv\"))"
   ],
   "metadata": {
    "collapsed": false
   },
   "id": "dd60291ca47f05b5"
  },
  {
   "cell_type": "code",
   "execution_count": null,
   "outputs": [],
   "source": [
    "# Restoring clustering labels to result\n",
    "order = [2,4,6,0,3,5,1] # reordering cluster labels\n",
    "model.adata_st.obs[\"Cluster\"] = [order[label] for label in model.adata_st.obs[\"GM\"].values]\n",
    "for i in range(len(result)):\n",
    "    result[i].obs[\"GM\"] = model.adata_st.obs.loc[result[i].obs_names, ][\"GM\"]\n",
    "    result[i].obs[\"Cluster\"] = model.adata_st.obs.loc[result[i].obs_names, ][\"Cluster\"]"
   ],
   "metadata": {
    "collapsed": false
   },
   "id": "46f72fa7c4189e8d"
  },
  {
   "cell_type": "code",
   "execution_count": null,
   "outputs": [],
   "source": [
    "for i, adata_st_i in enumerate(result):\n",
    "    print(\"Slice %d spatial domain detection result:\" % slice_idx[i])\n",
    "    sc.pl.spatial(adata_st_i, img_key=\"lowres\", color=\"Cluster\", color_map=\"cividis\", size=1.)"
   ],
   "metadata": {
    "collapsed": false
   },
   "id": "9e726c6470b596ee"
  },
  {
   "cell_type": "code",
   "execution_count": null,
   "outputs": [],
   "source": [
    "for i, adata_st_i in enumerate(result):\n",
    "    print(\"Slice %d cell-type deconvolution result:\" % slice_idx[i])\n",
    "    sc.pl.spatial(adata_st_i, img_key=\"lowres\", color=list(adata_basis.obs.index), size=1.)"
   ],
   "metadata": {
    "collapsed": false
   },
   "id": "52561824bbed11b"
  },
  {
   "cell_type": "code",
   "execution_count": null,
   "outputs": [],
   "source": [
    "import umap\n",
    "\n",
    "reducer = umap.UMAP(n_neighbors=30,\n",
    "                    n_components=2,\n",
    "                    metric=\"correlation\",\n",
    "                    n_epochs=None,\n",
    "                    learning_rate=1.0,\n",
    "                    min_dist=0.3,\n",
    "                    spread=1.0,\n",
    "                    set_op_mix_ratio=1.0,\n",
    "                    local_connectivity=1,\n",
    "                    repulsion_strength=1,\n",
    "                    negative_sample_rate=5,\n",
    "                    a=None,\n",
    "                    b=None,\n",
    "                    random_state=1234,\n",
    "                    metric_kwds=None,\n",
    "                    angular_rp_forest=False,\n",
    "                    verbose=True)\n",
    "\n",
    "embedding = reducer.fit_transform(model.adata_st.obsm['latent'])\n",
    "\n",
    "n_spots = embedding.shape[0]\n",
    "size = 120000 / n_spots"
   ],
   "metadata": {
    "collapsed": false
   },
   "id": "791b4df71f240824"
  },
  {
   "cell_type": "code",
   "execution_count": null,
   "outputs": [],
   "source": [
    "model.adata_st.obsm[\"X_umap\"] = embedding\n",
    "sc.pp.neighbors(model.adata_st, use_rep='latent')\n",
    "sc.tl.paga(model.adata_st, groups='layer')"
   ],
   "metadata": {
    "collapsed": false
   },
   "id": "fb725b8912d6f5d"
  },
  {
   "cell_type": "code",
   "execution_count": null,
   "outputs": [],
   "source": [
    "from sklearn import preprocessing\n",
    "from matplotlib.colors import ListedColormap\n",
    "\n",
    "le_slice = preprocessing.LabelEncoder()\n",
    "label_slice = le_slice.fit_transform(model.adata_st.obs['slice_id'])\n",
    "\n",
    "le_layer = preprocessing.LabelEncoder()\n",
    "label_layer = le_layer.fit_transform(model.adata_st.obs['layer'])\n",
    "\n",
    "np.random.seed(1234)\n",
    "order = np.arange(n_spots)\n",
    "np.random.shuffle(order)\n",
    "\n",
    "f = plt.figure(figsize=(45,10))\n",
    "\n",
    "ax1 = f.add_subplot(1,4,1)\n",
    "scatter1 = ax1.scatter(embedding[order, 0], embedding[order, 1],\n",
    "                       s=size, c=label_slice[order], cmap='coolwarm')\n",
    "ax1.set_title(\"Slice\", fontsize=40)\n",
    "ax1.tick_params(axis='both',bottom=False, top=False, left=False, right=False, labelleft=False, labelbottom=False, grid_alpha=0)\n",
    "\n",
    "l1 = ax1.legend(handles=scatter1.legend_elements()[0],\n",
    "                labels=[\"Slice %d\" % i for i in slice_idx],\n",
    "                loc=\"upper left\", bbox_to_anchor=(0., 0.),\n",
    "                markerscale=3., title_fontsize=45, fontsize=30, frameon=False, ncol=1)\n",
    "l1._legend_box.align = \"left\"\n",
    "\n",
    "\n",
    "ax2 = f.add_subplot(1,4,2)\n",
    "scatter2 = ax2.scatter(embedding[order, 0], embedding[order, 1],\n",
    "                       s=size, c=model.adata_st.obs['Cluster'][order], cmap='cividis')\n",
    "ax2.set_title(\"Cluster\", fontsize=40)\n",
    "ax2.tick_params(axis='both',bottom=False, top=False, left=False, right=False, labelleft=False, labelbottom=False, grid_alpha=0)\n",
    "\n",
    "l2 = ax2.legend(handles=scatter2.legend_elements()[0],\n",
    "                labels=[\"Cluster %d\" % i for i in range(1, 8)],\n",
    "                loc=\"upper left\", bbox_to_anchor=(0., 0.),\n",
    "                markerscale=3., title_fontsize=45, fontsize=30, frameon=False, ncol=2)\n",
    "\n",
    "l2._legend_box.align = \"left\"\n",
    "\n",
    "ax3 = f.add_subplot(1,4,3)\n",
    "scatter3 = ax3.scatter(embedding[order, 0], embedding[order, 1],\n",
    "                       s=size, c=label_layer[order], cmap=ListedColormap([\"#1f77b4\", \"#ff7f0e\", \"#2ca02c\", \"#d62728\", \"#9467bd\", \"#8c564b\", \"#e377c2\"]))\n",
    "ax3.set_title(\"Layer annotation\", fontsize=40)\n",
    "ax3.tick_params(axis='both',bottom=False, top=False, left=False, right=False, labelleft=False, labelbottom=False, grid_alpha=0)\n",
    "\n",
    "l3 = ax3.legend(handles=scatter3.legend_elements()[0],\n",
    "                labels=sorted(set(adata_st.obs['layer'].values)),\n",
    "                loc=\"upper left\", bbox_to_anchor=(0., 0.),\n",
    "                markerscale=3., title_fontsize=45, fontsize=30, frameon=False, ncol=2)\n",
    "\n",
    "l3._legend_box.align = \"left\"\n",
    "\n",
    "ax4 = f.add_subplot(1,4,4)\n",
    "ax4.set_title(\"Trajectory\", fontsize=40)\n",
    "ax4.tick_params(axis='both',bottom=False, top=False, left=False, right=False, labelleft=False, labelbottom=False, grid_alpha=0)\n",
    "ax4.set_xlim(ax3.get_xlim())\n",
    "ax4.set_ylim(ax3.get_ylim())\n",
    "\n",
    "pos = []\n",
    "for layer in [\"L1\", \"L2\", \"L3\", \"L4\", \"L5\", \"L6\", \"WM\"]:\n",
    "    center = np.mean(embedding[model.adata_st.obs['layer'].values.astype(str)==layer, :], axis=0)\n",
    "    pos.append(center)\n",
    "\n",
    "sc.pl.paga(adata_st, pos=np.array(pos), node_size_scale=20, edge_width_scale=5, fontsize=20, fontoutline=3, ax=ax4)\n",
    "\n",
    "f.subplots_adjust(hspace=.1, wspace=.1)\n",
    "plt.show()"
   ],
   "metadata": {
    "collapsed": false
   },
   "id": "897a8637a3800155"
  },
  {
   "cell_type": "code",
   "execution_count": null,
   "outputs": [],
   "source": [
    "adata_st.write('DLPFC_151507.h5ad')"
   ],
   "metadata": {
    "collapsed": false
   },
   "id": "1b491452ba978d4e"
  },
  {
   "cell_type": "code",
   "execution_count": null,
   "outputs": [],
   "source": [
    "import tqdm\n",
    "from pathlib import Path\n",
    "\n",
    "from sklearn.metrics import adjusted_rand_score as ari_score\n",
    "from sklearn.metrics import normalized_mutual_info_score as nmi_score\n",
    "from sklearn.metrics import adjusted_mutual_info_score as ami_score\n",
    "from sklearn.metrics import homogeneity_score as hom_score\n",
    "from sklearn.metrics import completeness_score as com_score"
   ],
   "metadata": {
    "collapsed": false
   },
   "id": "486d1d743425ab2c"
  },
  {
   "cell_type": "code",
   "execution_count": null,
   "outputs": [],
   "source": [
    "sub_adata = adata_st[~pd.isnull(adata_st.obs['layer'])]\n",
    "ARI = ari_score(sub_adata.obs['layer'], sub_adata.obs['GM'])\n",
    "print(f\"total ARI:{ARI}\")\n",
    "for name in range(0,4):\n",
    "    sub_adata_tmp = sub_adata[sub_adata.obs['slice'] == name]\n",
    "    ARI = ari_score(sub_adata_tmp.obs['layer'], sub_adata_tmp.obs['GM'])\n",
    "    print(f\"{name} ARI:{ARI}\")"
   ],
   "metadata": {
    "collapsed": false
   },
   "id": "d1fa10b5950b8185"
  },
  {
   "cell_type": "code",
   "execution_count": null,
   "outputs": [],
   "source": [
    "sub_adata = adata_st[~pd.isnull(adata_st.obs['layer'])]\n",
    "NMI = nmi_score(sub_adata.obs['layer'], sub_adata.obs['GM'])\n",
    "print(f\"total NMI:{NMI}\")\n",
    "AMI = ami_score(sub_adata.obs['layer'], sub_adata.obs['GM'])\n",
    "print(f\"total AMI:{AMI}\")\n",
    "for name in range(0,4):\n",
    "    sub_adata_tmp = sub_adata[sub_adata.obs['slice'] == name]\n",
    "    NMI = nmi_score(sub_adata_tmp.obs['layer'], sub_adata_tmp.obs['GM'])\n",
    "    AMI = ami_score(sub_adata_tmp.obs['layer'], sub_adata_tmp.obs['GM'])\n",
    "    ACC = 1/2 * (NMI + AMI)\n",
    "    print(f\"{name} ACC:{ACC}\")"
   ],
   "metadata": {
    "collapsed": false
   },
   "id": "aebfcde6c8bf9fc8"
  },
  {
   "cell_type": "code",
   "execution_count": null,
   "outputs": [],
   "source": [
    "sub_adata = adata_st[~pd.isnull(adata_st.obs['layer'])]\n",
    "HOM = hom_score(sub_adata.obs['layer'], sub_adata.obs['GM'])\n",
    "print(f\"total HOM:{HOM}\")\n",
    "COM = com_score(sub_adata.obs['layer'], sub_adata.obs['GM'])\n",
    "print(f\"total COM:{COM}\")\n",
    "for name in range(0,4):\n",
    "    sub_adata_tmp = sub_adata[sub_adata.obs['slice'] == name]\n",
    "    HOM = hom_score(sub_adata_tmp.obs['layer'], sub_adata_tmp.obs['GM'])\n",
    "    COM = com_score(sub_adata_tmp.obs['layer'], sub_adata_tmp.obs['GM'])\n",
    "    V =  2 * ((HOM * COM) / (HOM + COM))\n",
    "    print(f\"{name} V:{V}\")"
   ],
   "metadata": {
    "collapsed": false
   },
   "id": "16c423ac62fc35c6"
  },
  {
   "cell_type": "code",
   "execution_count": null,
   "outputs": [],
   "source": [
    "import seaborn as sns\n",
    "import harmonypy as hm\n",
    "\n",
    "iLISI = hm.compute_lisi(adata_st.obsm['latent'], adata_st.obs[['slice']], label_colnames=['slice'])[:, 0]\n",
    "cLISI = hm.compute_lisi(adata_st.obsm['latent'], adata_st.obs[['layer']], label_colnames=['layer'])[:, 0]\n",
    "\n",
    "df_iLISI = pd.DataFrame({\n",
    "    'method': 'STich3D',\n",
    "    'value': iLISI,\n",
    "    'type': ['ILISI'] * len(iLISI)\n",
    "})\n",
    "\n",
    "df_cLISI = pd.DataFrame({\n",
    "    'method': 'STich3D',\n",
    "    'value': cLISI,\n",
    "    'type': ['CLISI'] * len(cLISI)\n",
    "})\n",
    "\n",
    "fig, axes = plt.subplots(1, 2, figsize=(4, 5))\n",
    "sns.boxplot(data=df_iLISI, x='method', y='value', ax=axes[0])\n",
    "sns.boxplot(data=df_cLISI, x='method', y='value', ax=axes[1])\n",
    "axes[0].set_ylim(1, 3)\n",
    "axes[1].set_ylim(1, 7)\n",
    "axes[0].set_title('iLISI')\n",
    "axes[1].set_title('cLISI')\n",
    "\n",
    "plt.tight_layout()\n",
    "print(np.median(iLISI))\n",
    "print(np.median(cLISI))"
   ],
   "metadata": {
    "collapsed": false
   },
   "id": "ad94be34dd9513d5"
  },
  {
   "cell_type": "code",
   "execution_count": null,
   "outputs": [],
   "source": [],
   "metadata": {
    "collapsed": false
   },
   "id": "3fb6281b83828c5b"
  }
 ],
 "metadata": {
  "kernelspec": {
   "display_name": "Python 3",
   "language": "python",
   "name": "python3"
  },
  "language_info": {
   "codemirror_mode": {
    "name": "ipython",
    "version": 2
   },
   "file_extension": ".py",
   "mimetype": "text/x-python",
   "name": "python",
   "nbconvert_exporter": "python",
   "pygments_lexer": "ipython2",
   "version": "2.7.6"
  }
 },
 "nbformat": 4,
 "nbformat_minor": 5
}
