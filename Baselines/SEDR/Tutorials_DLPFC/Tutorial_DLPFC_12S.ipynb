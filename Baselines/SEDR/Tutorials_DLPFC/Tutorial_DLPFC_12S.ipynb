{
 "cells": [
  {
   "cell_type": "markdown",
   "id": "40f7b78b-daa1-4abb-8f94-1f7363519b56",
   "metadata": {},
   "source": [
    "# Tutorial 3. Use SEDR to do batch integration.\n",
    "\n",
    "Here we use 3 sections from DLPFC data to show the ability of SEDR to integrate batches for the same tissue with the same techniques. "
   ]
  },
  {
   "cell_type": "code",
   "execution_count": 1,
   "id": "263b7207-9771-4a05-bb30-771892a89136",
   "metadata": {
    "ExecuteTime": {
     "end_time": "2024-10-17T13:07:47.164698300Z",
     "start_time": "2024-10-17T13:07:45.025885400Z"
    }
   },
   "outputs": [],
   "source": [
    "import os\n",
    "import torch\n",
    "import numpy as np\n",
    "import pandas as pd\n",
    "import scanpy as sc\n",
    "\n",
    "import matplotlib.pyplot as plt\n",
    "import seaborn as sns\n",
    "\n",
    "import warnings\n",
    "warnings.filterwarnings('ignore')\n",
    "\n",
    "from pathlib import Path\n",
    "from tqdm import tqdm\n",
    "\n"
   ]
  },
  {
   "cell_type": "code",
   "execution_count": 2,
   "id": "ecbd9e74-7da4-4d64-baa3-eb33be7a20c8",
   "metadata": {
    "ExecuteTime": {
     "end_time": "2024-10-17T13:07:47.281485400Z",
     "start_time": "2024-10-17T13:07:47.166690700Z"
    }
   },
   "outputs": [],
   "source": [
    "import SEDR"
   ]
  },
  {
   "cell_type": "code",
   "execution_count": 3,
   "id": "4333475f-a24a-4b0a-bd06-e00f3a5a2915",
   "metadata": {
    "ExecuteTime": {
     "end_time": "2024-10-17T13:07:47.287546100Z",
     "start_time": "2024-10-17T13:07:47.285794700Z"
    }
   },
   "outputs": [],
   "source": [
    "data_root = Path('../../../data/DLPFC/')\n",
    "\n",
    "proj_list = ['151673', '151674', '151675', '151676',\n",
    "            '151507', '151508', '151509', '151510',\n",
    "            '151669', '151670','151671', '151672']"
   ]
  },
  {
   "cell_type": "markdown",
   "id": "6a2fbc9e-87e5-475a-a58f-f047fdbb1c9d",
   "metadata": {
    "tags": []
   },
   "source": [
    "## Combining datasets\n",
    "\n",
    "Input of SEDR includes an AnnData object that contains the spatial transcriptomics data and a graph dictionary that contains the neighborhood graph. When combining two datasets, the AnnData objects are directly concatenated. For neighborhood graphs, we follow the following algorithm.  \n",
    "Let $A^k$ and $Z_f^k$ denote the adjacency matrix and deep gene representation of spatial omics k, we then create a block-diagonal adjacency matrix $A^k$  and concatenate the deep gene representation in the spot dimension, as:  \n",
    "![](batch_integration.png)  \n",
    "where K is the number of spatial omics. \n"
   ]
  },
  {
   "cell_type": "code",
   "execution_count": 4,
   "id": "b3774342-0bf6-437a-88d4-d4f7830cf2c9",
   "metadata": {
    "ExecuteTime": {
     "end_time": "2024-10-17T13:09:12.399264200Z",
     "start_time": "2024-10-17T13:07:47.288543300Z"
    }
   },
   "outputs": [
    {
     "name": "stderr",
     "output_type": "stream",
     "text": [
      "100%|██████████| 12/12 [01:25<00:00,  7.09s/it]\n"
     ]
    }
   ],
   "source": [
    "for proj_name in tqdm(proj_list):\n",
    "    adata_tmp = sc.read_visium(data_root / proj_name, count_file=proj_name+'_filtered_feature_bc_matrix.h5')\n",
    "    adata_tmp.var_names_make_unique()\n",
    "\n",
    "    adata_tmp.obs['batch_name'] = proj_name\n",
    "    graph_dict_tmp = SEDR.graph_construction(adata_tmp, 12)\n",
    "    \n",
    "    ##### Load layer_guess label, if have\n",
    "    df_label = pd.read_csv(data_root / proj_name / 'manual_annotations.txt', sep='\\t', header=None, index_col=0)\n",
    "    df_label.columns = ['layer_guess']\n",
    "    adata_tmp.obs['layer_guess'] = df_label['layer_guess']\n",
    "    \n",
    "    if proj_name == proj_list[0]:\n",
    "        adata = adata_tmp\n",
    "        graph_dict = graph_dict_tmp\n",
    "        name = proj_name\n",
    "        adata.obs['proj_name'] = proj_name\n",
    "    else:\n",
    "        var_names = adata.var_names.intersection(adata_tmp.var_names)\n",
    "        adata = adata[:, var_names]\n",
    "        adata_tmp = adata_tmp[:, var_names]\n",
    "        adata_tmp.obs['proj_name'] = proj_name\n",
    "    \n",
    "        adata = adata.concatenate(adata_tmp)\n",
    "        graph_dict = SEDR.combine_graph_dict(graph_dict, graph_dict_tmp)\n",
    "        name = name + '_' + proj_name"
   ]
  },
  {
   "cell_type": "markdown",
   "id": "7c2b1a71-41e1-4db6-8ecf-4eb56cb6e2dc",
   "metadata": {},
   "source": [
    "## Preprocessing"
   ]
  },
  {
   "cell_type": "code",
   "execution_count": 5,
   "id": "79d316d1-a892-4864-856b-071c8fbfc14e",
   "metadata": {
    "ExecuteTime": {
     "end_time": "2024-10-17T13:10:08.710741700Z",
     "start_time": "2024-10-17T13:09:12.414279900Z"
    }
   },
   "outputs": [],
   "source": [
    "adata.layers['count'] = adata.X.toarray()\n",
    "sc.pp.filter_genes(adata, min_cells=50)\n",
    "sc.pp.filter_genes(adata, min_counts=10)\n",
    "sc.pp.normalize_total(adata, target_sum=1e6)\n",
    "sc.pp.highly_variable_genes(adata, flavor=\"seurat_v3\", layer='count', n_top_genes=2000)\n",
    "adata = adata[:, adata.var['highly_variable'] == True]\n",
    "sc.pp.scale(adata)\n",
    "\n",
    "from sklearn.decomposition import PCA  # sklearn PCA is used because PCA in scanpy is not stable. \n",
    "adata_X = PCA(n_components=200, random_state=42).fit_transform(adata.X)\n",
    "adata.obsm['X_pca'] = adata_X"
   ]
  },
  {
   "cell_type": "markdown",
   "id": "65d34553-e0f8-4d82-9ee1-f1b4884aa8bb",
   "metadata": {},
   "source": [
    "## Training SEDR"
   ]
  },
  {
   "cell_type": "code",
   "execution_count": 6,
   "id": "8962e080-f303-47b2-80f2-b010561e1e62",
   "metadata": {
    "ExecuteTime": {
     "end_time": "2024-10-17T13:10:55.217892800Z",
     "start_time": "2024-10-17T13:10:08.714250500Z"
    }
   },
   "outputs": [
    {
     "name": "stderr",
     "output_type": "stream",
     "text": [
      "100%|██████████| 200/200 [00:44<00:00,  4.49it/s]\n"
     ]
    }
   ],
   "source": [
    "sedr_net = SEDR.Sedr(adata.obsm['X_pca'], graph_dict, mode='clustering', device='cuda:0')\n",
    "using_dec = False\n",
    "if using_dec:\n",
    "    sedr_net.train_with_dec()\n",
    "else:\n",
    "    sedr_net.train_without_dec()\n",
    "sedr_feat, _, _, _ = sedr_net.process()\n",
    "adata.obsm['SEDR'] = sedr_feat"
   ]
  },
  {
   "cell_type": "markdown",
   "id": "276d9516-98ef-4ff9-a64b-068feccd25a4",
   "metadata": {},
   "source": [
    "## use harmony to calculate revised PCs"
   ]
  },
  {
   "cell_type": "code",
   "execution_count": 7,
   "id": "64ccb795-61b6-421d-8415-51dc8c2d2fdb",
   "metadata": {
    "ExecuteTime": {
     "end_time": "2024-10-17T13:13:02.905315200Z",
     "start_time": "2024-10-17T13:10:55.217892800Z"
    }
   },
   "outputs": [
    {
     "name": "stderr",
     "output_type": "stream",
     "text": [
      "2024-10-17 21:10:55,245 - harmonypy - INFO - Computing initial centroids with sklearn.KMeans...\n",
      "2024-10-17 21:10:59,995 - harmonypy - INFO - sklearn.KMeans initialization complete.\n",
      "2024-10-17 21:11:00,237 - harmonypy - INFO - Iteration 1 of 10\n",
      "2024-10-17 21:11:14,320 - harmonypy - INFO - Iteration 2 of 10\n",
      "2024-10-17 21:11:28,457 - harmonypy - INFO - Iteration 3 of 10\n",
      "2024-10-17 21:11:42,537 - harmonypy - INFO - Iteration 4 of 10\n",
      "2024-10-17 21:11:56,844 - harmonypy - INFO - Iteration 5 of 10\n",
      "2024-10-17 21:12:08,037 - harmonypy - INFO - Iteration 6 of 10\n",
      "2024-10-17 21:12:17,868 - harmonypy - INFO - Iteration 7 of 10\n",
      "2024-10-17 21:12:32,121 - harmonypy - INFO - Iteration 8 of 10\n",
      "2024-10-17 21:12:42,645 - harmonypy - INFO - Iteration 9 of 10\n",
      "2024-10-17 21:12:52,449 - harmonypy - INFO - Iteration 10 of 10\n",
      "2024-10-17 21:13:02,892 - harmonypy - INFO - Stopped before convergence\n"
     ]
    }
   ],
   "source": [
    "import harmonypy as hm\n",
    "\n",
    "meta_data = adata.obs[['batch_name']]\n",
    "\n",
    "data_mat = adata.obsm['SEDR']\n",
    "vars_use = ['batch_name']\n",
    "ho = hm.run_harmony(data_mat, meta_data, vars_use)\n",
    "\n",
    "res = pd.DataFrame(ho.Z_corr).T\n",
    "res_df = pd.DataFrame(data=res.values, columns=['X{}'.format(i+1) for i in range(res.shape[1])], index=adata.obs.index)\n",
    "adata.obsm[f'SEDR.Harmony'] = res_df.to_numpy()"
   ]
  },
  {
   "cell_type": "code",
   "execution_count": 8,
   "outputs": [
    {
     "name": "stderr",
     "output_type": "stream",
     "text": [
      "R[write to console]:                    __           __ \n",
      "   ____ ___  _____/ /_  _______/ /_\n",
      "  / __ `__ \\/ ___/ / / / / ___/ __/\n",
      " / / / / / / /__/ / /_/ (__  ) /_  \n",
      "/_/ /_/ /_/\\___/_/\\__,_/____/\\__/   version 6.0.1\n",
      "Type 'citation(\"mclust\")' for citing this R package in publications.\n",
      "\n"
     ]
    },
    {
     "name": "stdout",
     "output_type": "stream",
     "text": [
      "fitting ...\n",
      "  |======================================================================| 100%\n"
     ]
    },
    {
     "data": {
      "text/plain": "AnnData object with n_obs × n_vars = 47681 × 2000\n    obs: 'in_tissue', 'array_row', 'array_col', 'batch_name', 'layer_guess', 'proj_name', 'batch', 'mclust'\n    var: 'gene_ids', 'feature_types', 'genome', 'n_cells', 'n_counts', 'highly_variable', 'highly_variable_rank', 'means', 'variances', 'variances_norm', 'mean', 'std'\n    uns: 'hvg'\n    obsm: 'spatial', 'X_pca', 'SEDR', 'SEDR.Harmony'\n    layers: 'count'"
     },
     "execution_count": 8,
     "metadata": {},
     "output_type": "execute_result"
    }
   ],
   "source": [
    "SEDR.mclust_R(adata, use_rep='SEDR.Harmony', key_added='mclust', n_clusters=5)"
   ],
   "metadata": {
    "collapsed": false,
    "ExecuteTime": {
     "end_time": "2024-10-17T13:13:12.071073200Z",
     "start_time": "2024-10-17T13:13:02.903320500Z"
    }
   },
   "id": "b03f25eb53331606"
  },
  {
   "cell_type": "code",
   "execution_count": 9,
   "outputs": [
    {
     "name": "stdout",
     "output_type": "stream",
     "text": [
      "total ARI:0.39741836752018983\n",
      "151673 ARI:0.4765204310675322\n",
      "151674 ARI:0.46054246601617305\n",
      "151675 ARI:0.43705793555770134\n",
      "151676 ARI:0.4648391413274263\n",
      "151507 ARI:0.46858638770034\n",
      "151508 ARI:0.4544795908847759\n",
      "151509 ARI:0.5151843145673903\n",
      "151510 ARI:0.5676860047678967\n",
      "151669 ARI:0.3237846099992767\n",
      "151670 ARI:0.32546618534268434\n",
      "151671 ARI:0.3994067550803991\n",
      "151672 ARI:0.37149854748788164\n"
     ]
    }
   ],
   "source": [
    "from sklearn.metrics import adjusted_rand_score\n",
    "\n",
    "indices = np.logical_not(adata.obs[\"layer_guess\"].isna())\n",
    "ground_truth = adata.obs[\"layer_guess\"].dropna()\n",
    "ARI = adjusted_rand_score(ground_truth[indices], adata.obs['mclust'][indices])\n",
    "print(f\"total ARI:{ARI}\")\n",
    "for name in proj_list:\n",
    "    sub_adata_tmp = adata[adata.obs['batch_name'] == name]\n",
    "    ARI = adjusted_rand_score(sub_adata_tmp.obs['layer_guess'][indices], sub_adata_tmp.obs['mclust'][indices])\n",
    "    print(f\"{name} ARI:{ARI}\")"
   ],
   "metadata": {
    "collapsed": false,
    "ExecuteTime": {
     "end_time": "2024-10-17T13:13:12.217424Z",
     "start_time": "2024-10-17T13:13:12.066550900Z"
    }
   },
   "id": "a5e4e9f29b90a19f"
  },
  {
   "cell_type": "markdown",
   "id": "4eccc55c-c008-4e4e-9034-5e4dcc8ac296",
   "metadata": {},
   "source": [
    "## Visualizing"
   ]
  },
  {
   "cell_type": "markdown",
   "id": "a480e3c2-720f-4fb6-bab7-68f316cefa28",
   "metadata": {},
   "source": [
    "### UMAP"
   ]
  },
  {
   "cell_type": "code",
   "execution_count": null,
   "id": "33c51157-e473-45b0-a203-2b37b1ee2211",
   "metadata": {
    "is_executing": true,
    "ExecuteTime": {
     "start_time": "2024-10-17T13:13:12.217424Z"
    }
   },
   "outputs": [],
   "source": [
    "sc.pp.neighbors(adata, use_rep='SEDR.Harmony', metric='cosine')\n",
    "sc.tl.umap(adata)"
   ]
  },
  {
   "cell_type": "code",
   "execution_count": null,
   "id": "f0142cdc-af07-4c8f-ac7a-4f06251597c5",
   "metadata": {
    "is_executing": true
   },
   "outputs": [],
   "source": [
    "sc.pl.umap(adata, color=['layer_guess', 'batch_name'], show=False)"
   ]
  },
  {
   "cell_type": "markdown",
   "id": "b29a70f7-0f04-4f4a-9306-32fba9c04183",
   "metadata": {},
   "source": [
    "### LISI score"
   ]
  },
  {
   "cell_type": "code",
   "execution_count": null,
   "id": "0868b5ef-ae47-4f6d-acfd-78f14b6c4684",
   "metadata": {
    "is_executing": true
   },
   "outputs": [],
   "source": [
    "ILISI = hm.compute_lisi(adata.obsm['SEDR.Harmony'], adata.obs[['batch']], label_colnames=['batch'])[:, 0]\n",
    "CLISI = hm.compute_lisi(adata.obsm['SEDR.Harmony'], adata.obs[['layer_guess']], label_colnames=['layer_guess'])[:, 0]"
   ]
  },
  {
   "cell_type": "code",
   "execution_count": null,
   "id": "e67bc9a6-b80f-43c5-8934-5b92b4db7439",
   "metadata": {
    "is_executing": true
   },
   "outputs": [],
   "source": [
    "df_ILISI = pd.DataFrame({\n",
    "    'method': 'SEDR',\n",
    "    'value': ILISI,\n",
    "    'type': ['ILISI']*len(ILISI)\n",
    "})\n",
    "\n",
    "\n",
    "df_CLISI = pd.DataFrame({\n",
    "    'method': 'SEDR',\n",
    "    'value': CLISI,\n",
    "    'type': ['CLISI']*len(CLISI)\n",
    "})\n",
    "\n",
    "fig, axes = plt.subplots(1,2,figsize=(4, 5))\n",
    "sns.boxplot(data=df_ILISI, x='method', y='value', ax=axes[0])\n",
    "sns.boxplot(data=df_CLISI, x='method', y='value', ax=axes[1])\n",
    "axes[0].set_ylim(1, 3)\n",
    "axes[1].set_ylim(1, 7)\n",
    "axes[0].set_title('iLISI')\n",
    "axes[1].set_title('cLISI')\n",
    "\n",
    "plt.tight_layout()"
   ]
  },
  {
   "cell_type": "code",
   "execution_count": null,
   "outputs": [],
   "source": [],
   "metadata": {
    "collapsed": false,
    "is_executing": true
   },
   "id": "3f0967a628fad0e7"
  }
 ],
 "metadata": {
  "kernelspec": {
   "name": "python3",
   "language": "python",
   "display_name": "Python 3 (ipykernel)"
  },
  "language_info": {
   "codemirror_mode": {
    "name": "ipython",
    "version": 3
   },
   "file_extension": ".py",
   "mimetype": "text/x-python",
   "name": "python",
   "nbconvert_exporter": "python",
   "pygments_lexer": "ipython3",
   "version": "3.11.3"
  }
 },
 "nbformat": 4,
 "nbformat_minor": 5
}
