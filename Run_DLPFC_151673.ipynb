{
 "cells": [
  {
   "cell_type": "code",
   "execution_count": 1,
   "id": "initial_id",
   "metadata": {
    "collapsed": true,
    "ExecuteTime": {
     "end_time": "2025-04-10T08:31:11.676868300Z",
     "start_time": "2025-04-10T08:31:07.421528100Z"
    }
   },
   "outputs": [],
   "source": [
    "import os\n",
    "import torch\n",
    "import numpy as np\n",
    "import pandas as pd\n",
    "import scanpy as sc\n",
    "\n",
    "import matplotlib.pyplot as plt\n",
    "import seaborn as sns\n",
    "\n",
    "import warnings\n",
    "warnings.filterwarnings('ignore')\n",
    "\n",
    "from pathlib import Path\n",
    "from tqdm import tqdm\n",
    "\n",
    "from adj import main, combine_graph_dict\n",
    "from train import train_model\n",
    "from utils import mclust_R, fix_seed"
   ]
  },
  {
   "cell_type": "code",
   "execution_count": 2,
   "outputs": [],
   "source": [
    "from sklearn.metrics import adjusted_rand_score as ari_score\n",
    "from sklearn.metrics import normalized_mutual_info_score as nmi_score\n",
    "from sklearn.metrics import adjusted_mutual_info_score as ami_score\n",
    "from sklearn.metrics import homogeneity_score as hom_score\n",
    "from sklearn.metrics import completeness_score as com_score\n",
    "from utils import compute_PAS, compute_CHAOS\n",
    "from sklearn.decomposition import PCA"
   ],
   "metadata": {
    "collapsed": false,
    "ExecuteTime": {
     "end_time": "2025-04-10T08:31:11.681338600Z",
     "start_time": "2025-04-10T08:31:11.678888700Z"
    }
   },
   "id": "fe033fbb70a491d6"
  },
  {
   "cell_type": "code",
   "execution_count": 3,
   "outputs": [],
   "source": [
    "fix_seed(1)"
   ],
   "metadata": {
    "collapsed": false,
    "ExecuteTime": {
     "end_time": "2025-04-10T08:31:11.693975400Z",
     "start_time": "2025-04-10T08:31:11.683502800Z"
    }
   },
   "id": "8899522a793d7c77"
  },
  {
   "cell_type": "code",
   "execution_count": 4,
   "outputs": [],
   "source": [
    "data_root = Path('../data/DLPFC')\n",
    "\n",
    "proj_list = [\n",
    "    '151673', '151674', '151675', '151676' \n",
    "]"
   ],
   "metadata": {
    "collapsed": false,
    "ExecuteTime": {
     "end_time": "2025-04-10T08:31:11.698537700Z",
     "start_time": "2025-04-10T08:31:11.694994500Z"
    }
   },
   "id": "9c94edbce522cd0e"
  },
  {
   "cell_type": "code",
   "execution_count": 5,
   "outputs": [
    {
     "name": "stderr",
     "output_type": "stream",
     "text": [
      "  0%|          | 0/4 [00:00<?, ?it/s]"
     ]
    },
    {
     "name": "stdout",
     "output_type": "stream",
     "text": [
      "------Calculating spatial graph...\n"
     ]
    },
    {
     "name": "stderr",
     "output_type": "stream",
     "text": [
      " 25%|██▌       | 1/4 [00:01<00:03,  1.01s/it]"
     ]
    },
    {
     "name": "stdout",
     "output_type": "stream",
     "text": [
      "The graph contains 29112 edges, 3639 cells.\n",
      "8.0000 neighbors per cell on average.\n",
      "------Calculating spatial graph...\n",
      "The graph contains 29384 edges, 3673 cells.\n",
      "8.0000 neighbors per cell on average.\n"
     ]
    },
    {
     "name": "stderr",
     "output_type": "stream",
     "text": [
      " 50%|█████     | 2/4 [00:02<00:02,  1.24s/it]"
     ]
    },
    {
     "name": "stdout",
     "output_type": "stream",
     "text": [
      "------Calculating spatial graph...\n",
      "The graph contains 28736 edges, 3592 cells.\n",
      "8.0000 neighbors per cell on average.\n"
     ]
    },
    {
     "name": "stderr",
     "output_type": "stream",
     "text": [
      " 75%|███████▌  | 3/4 [00:03<00:01,  1.27s/it]"
     ]
    },
    {
     "name": "stdout",
     "output_type": "stream",
     "text": [
      "------Calculating spatial graph...\n",
      "The graph contains 27680 edges, 3460 cells.\n",
      "8.0000 neighbors per cell on average.\n"
     ]
    },
    {
     "name": "stderr",
     "output_type": "stream",
     "text": [
      "100%|██████████| 4/4 [00:05<00:00,  1.35s/it]\n"
     ]
    }
   ],
   "source": [
    "for proj_name in tqdm(proj_list):\n",
    "    adata_tmp = sc.read_visium(data_root / proj_name, count_file=proj_name+\"_filtered_feature_bc_matrix.h5\")\n",
    "    adata_tmp.var_names_make_unique()\n",
    "\n",
    "    adata_tmp.obs['batch_name'] = proj_name\n",
    "    graph_dict_tmp = main(adata_tmp, adj_cons_by='coordinate', distType='KNN', k_cutoff=8, rad_cutoff=250)\n",
    "    \n",
    "    ##### Load layer_guess label, if have\n",
    "    df_label = pd.read_csv(data_root / proj_name / 'manual_annotations.txt', sep='\\t', header=None, index_col=0)\n",
    "    df_label.columns = ['layer_guess']\n",
    "    adata_tmp.obs['layer_guess'] = df_label['layer_guess']\n",
    "    #adata_tmp= adata_tmp[~pd.isnull(adata_tmp.obs['layer_guess'])]\n",
    "    \n",
    "    if proj_name == proj_list[0]:\n",
    "        adata = adata_tmp\n",
    "        graph_dict = graph_dict_tmp\n",
    "        name = proj_name\n",
    "        adata.obs['proj_name'] = proj_name\n",
    "    else:\n",
    "        var_names = adata.var_names.intersection(adata_tmp.var_names)\n",
    "        adata = adata[:, var_names]\n",
    "        adata_tmp = adata_tmp[:, var_names]\n",
    "        adata_tmp.obs['proj_name'] = proj_name\n",
    "    \n",
    "        adata = adata.concatenate(adata_tmp)\n",
    "        graph_dict = combine_graph_dict(graph_dict, graph_dict_tmp)\n",
    "        name = name + '_' + proj_name"
   ],
   "metadata": {
    "collapsed": false,
    "ExecuteTime": {
     "end_time": "2025-04-10T08:31:17.114453500Z",
     "start_time": "2025-04-10T08:31:11.702053900Z"
    }
   },
   "id": "a7251687afcb5e31"
  },
  {
   "cell_type": "code",
   "execution_count": 6,
   "outputs": [],
   "source": [
    "adata.layers['count'] = adata.X.toarray()\n",
    "sc.pp.filter_genes(adata, min_cells=50)\n",
    "sc.pp.filter_genes(adata, min_counts=10)\n",
    "sc.pp.normalize_total(adata, target_sum=1e6)\n",
    "sc.pp.highly_variable_genes(adata, flavor=\"seurat_v3\", layer='count', n_top_genes=2000)\n",
    "adata = adata[:, adata.var['highly_variable'] == True]\n",
    "sc.pp.scale(adata)\n",
    "\n",
    "from sklearn.decomposition import PCA  # sklearn PCA is used because PCA in scanpy is not stable. \n",
    "adata_X = PCA(n_components=200, random_state=42).fit_transform(adata.X)\n",
    "adata.obsm['X_pca'] = adata_X"
   ],
   "metadata": {
    "collapsed": false,
    "ExecuteTime": {
     "end_time": "2025-04-10T08:31:33.222425700Z",
     "start_time": "2025-04-10T08:31:17.116960600Z"
    }
   },
   "id": "2cc8e51b8e63a624"
  },
  {
   "cell_type": "code",
   "execution_count": 7,
   "outputs": [
    {
     "name": "stderr",
     "output_type": "stream",
     "text": [
      "Epoch 499 total loss=14.238: 100%|██████████ [ time left: 00:00 ]    \n"
     ]
    }
   ],
   "source": [
    "sedr_net = train_model(adata, graph_dict, pre_epochs=500 ,epochs=1000, mask_rate=0.2)\n",
    "using_dec = False\n",
    "if using_dec:\n",
    "    sedr_net.train_with_dec(num_aggre=1)\n",
    "else:\n",
    "    sedr_net.train_without_dec()"
   ],
   "metadata": {
    "collapsed": false,
    "ExecuteTime": {
     "end_time": "2025-04-10T08:32:11.047952Z",
     "start_time": "2025-04-10T08:31:33.223423Z"
    }
   },
   "id": "5378abe1d69b1170"
  },
  {
   "cell_type": "code",
   "execution_count": 8,
   "outputs": [],
   "source": [
    "sedr_feat, _ = sedr_net.process()\n",
    "adata.obsm['SEDR'] = sedr_feat"
   ],
   "metadata": {
    "collapsed": false,
    "ExecuteTime": {
     "end_time": "2025-04-10T08:32:11.086828700Z",
     "start_time": "2025-04-10T08:32:11.046929Z"
    }
   },
   "id": "ec4570059dde714b"
  },
  {
   "cell_type": "code",
   "execution_count": 9,
   "outputs": [
    {
     "name": "stderr",
     "output_type": "stream",
     "text": [
      "R[write to console]:                    __           __ \n",
      "   ____ ___  _____/ /_  _______/ /_\n",
      "  / __ `__ \\/ ___/ / / / / ___/ __/\n",
      " / / / / / / /__/ / /_/ (__  ) /_  \n",
      "/_/ /_/ /_/\\___/_/\\__,_/____/\\__/   version 6.0.1\n",
      "Type 'citation(\"mclust\")' for citing this R package in publications.\n",
      "\n"
     ]
    },
    {
     "name": "stdout",
     "output_type": "stream",
     "text": [
      "fitting ...\n",
      "  |======================================================================| 100%\n"
     ]
    },
    {
     "data": {
      "text/plain": "AnnData object with n_obs × n_vars = 14364 × 2000\n    obs: 'in_tissue', 'array_row', 'array_col', 'batch_name', 'layer_guess', 'proj_name', 'batch', 'mclust'\n    var: 'gene_ids', 'feature_types', 'genome', 'n_cells', 'n_counts', 'highly_variable', 'highly_variable_rank', 'means', 'variances', 'variances_norm', 'mean', 'std'\n    uns: 'hvg'\n    obsm: 'spatial', 'X_pca', 'SEDR'\n    layers: 'count'"
     },
     "execution_count": 9,
     "metadata": {},
     "output_type": "execute_result"
    }
   ],
   "source": [
    "mclust_R(adata, num_cluster=7, used_obsm='SEDR')"
   ],
   "metadata": {
    "collapsed": false,
    "ExecuteTime": {
     "end_time": "2025-04-10T08:32:21.806643Z",
     "start_time": "2025-04-10T08:32:11.074704300Z"
    }
   },
   "id": "f62f035778a2b228"
  },
  {
   "cell_type": "code",
   "execution_count": 10,
   "outputs": [],
   "source": [
    "#adata.write(\"Ours_DLPFC_151673\")"
   ],
   "metadata": {
    "collapsed": false,
    "ExecuteTime": {
     "end_time": "2025-04-10T08:32:21.814346600Z",
     "start_time": "2025-04-10T08:32:21.808706700Z"
    }
   },
   "id": "f669bd1270cbbdd4"
  },
  {
   "cell_type": "code",
   "execution_count": 11,
   "outputs": [
    {
     "name": "stdout",
     "output_type": "stream",
     "text": [
      "total ARI:0.5282974456169395\n",
      "151673 ARI:0.5076967313934226\n",
      "151674 ARI:0.5085149663778005\n",
      "151675 ARI:0.5858257850348836\n",
      "151676 ARI:0.5302860406192644\n"
     ]
    }
   ],
   "source": [
    "sub_adata = adata[~pd.isnull(adata.obs['layer_guess'])]\n",
    "ARI = ari_score(sub_adata.obs['layer_guess'], sub_adata.obs['mclust'])\n",
    "print(f\"total ARI:{ARI}\")\n",
    "for name in proj_list:\n",
    "    sub_adata_tmp = sub_adata[sub_adata.obs['batch_name'] == name]\n",
    "    ARI = ari_score(sub_adata_tmp.obs['layer_guess'], sub_adata_tmp.obs['mclust'])\n",
    "    print(f\"{name} ARI:{ARI}\")"
   ],
   "metadata": {
    "collapsed": false,
    "ExecuteTime": {
     "end_time": "2025-04-10T08:32:21.858222900Z",
     "start_time": "2025-04-10T08:32:21.813337900Z"
    }
   },
   "id": "97645cf6392d7a26"
  },
  {
   "cell_type": "code",
   "execution_count": 12,
   "outputs": [],
   "source": [
    "# sub_adata = adata[~pd.isnull(adata.obs['layer_guess'])]\n",
    "# NMI = nmi_score(sub_adata.obs['layer_guess'], sub_adata.obs['mclust'])\n",
    "# print(f\"total NMI:{NMI}\")\n",
    "# for name in proj_list:\n",
    "#     sub_adata_tmp = sub_adata[sub_adata.obs['batch_name'] == name]\n",
    "#     NMI = nmi_score(sub_adata_tmp.obs['layer_guess'], sub_adata_tmp.obs['mclust'])\n",
    "#     print(f\"{name} NMI:{NMI}\")"
   ],
   "metadata": {
    "collapsed": false,
    "ExecuteTime": {
     "end_time": "2025-04-10T08:32:21.873125Z",
     "start_time": "2025-04-10T08:32:21.859817700Z"
    }
   },
   "id": "22e70ca983e55afc"
  },
  {
   "cell_type": "code",
   "execution_count": 13,
   "outputs": [],
   "source": [
    "# sub_adata = adata[~pd.isnull(adata.obs['layer_guess'])]\n",
    "# HOM = hom_score(sub_adata.obs['layer_guess'], sub_adata.obs['mclust'])\n",
    "# print(f\"total HOM:{HOM}\")\n",
    "# for name in proj_list:\n",
    "#     sub_adata_tmp = sub_adata[sub_adata.obs['batch_name'] == name]\n",
    "#     HOM = hom_score(sub_adata_tmp.obs['layer_guess'], sub_adata_tmp.obs['mclust'])\n",
    "#     print(f\"{name} HOM:{HOM}\")"
   ],
   "metadata": {
    "collapsed": false,
    "ExecuteTime": {
     "end_time": "2025-04-10T08:32:21.873125Z",
     "start_time": "2025-04-10T08:32:21.863501800Z"
    }
   },
   "id": "e2ff27b9f8cebad4"
  },
  {
   "cell_type": "code",
   "execution_count": 14,
   "outputs": [],
   "source": [
    "# sub_adata = adata[~pd.isnull(adata.obs['layer_guess'])]\n",
    "# COM = com_score(sub_adata.obs['layer_guess'], sub_adata.obs['mclust'])\n",
    "# print(f\"total COM:{COM}\")\n",
    "# for name in proj_list:\n",
    "#     sub_adata_tmp = sub_adata[sub_adata.obs['batch_name'] == name]\n",
    "#     COM = com_score(sub_adata_tmp.obs['layer_guess'], sub_adata_tmp.obs['mclust'])\n",
    "#     print(f\"{name} COM:{COM}\")"
   ],
   "metadata": {
    "collapsed": false,
    "ExecuteTime": {
     "end_time": "2025-04-10T08:32:21.881655600Z",
     "start_time": "2025-04-10T08:32:21.871617700Z"
    }
   },
   "id": "5dcc335079bc7fcb"
  },
  {
   "cell_type": "code",
   "execution_count": 15,
   "outputs": [
    {
     "name": "stdout",
     "output_type": "stream",
     "text": [
      "total NMI:0.6295808270870403\n",
      "total AMI:0.6293309092398275\n",
      "151673 ACC:0.6373990773677947\n",
      "151674 ACC:0.6195216918522849\n",
      "151675 ACC:0.6707747740924298\n",
      "151676 ACC:0.631775560558363\n"
     ]
    }
   ],
   "source": [
    "sub_adata = adata[~pd.isnull(adata.obs['layer_guess'])]\n",
    "NMI = nmi_score(sub_adata.obs['layer_guess'], sub_adata.obs['mclust'])\n",
    "print(f\"total NMI:{NMI}\")\n",
    "AMI = ami_score(sub_adata.obs['layer_guess'], sub_adata.obs['mclust'])\n",
    "print(f\"total AMI:{AMI}\")\n",
    "for name in proj_list:\n",
    "    sub_adata_tmp = sub_adata[sub_adata.obs['batch_name'] == name]\n",
    "    NMI = nmi_score(sub_adata_tmp.obs['layer_guess'], sub_adata_tmp.obs['mclust'])\n",
    "    AMI = ami_score(sub_adata_tmp.obs['layer_guess'], sub_adata_tmp.obs['mclust'])\n",
    "    ACC = 1/2 * (NMI + AMI)\n",
    "    print(f\"{name} ACC:{ACC}\")"
   ],
   "metadata": {
    "collapsed": false,
    "ExecuteTime": {
     "end_time": "2025-04-10T08:32:21.994134Z",
     "start_time": "2025-04-10T08:32:21.880658300Z"
    }
   },
   "id": "bd0198c5c89328a3"
  },
  {
   "cell_type": "code",
   "execution_count": 16,
   "outputs": [],
   "source": [
    "# sub_adata = adata[~pd.isnull(adata.obs['layer_guess'])]\n",
    "# CHAOS = compute_CHAOS(sub_adata, f'mclust')\n",
    "# print(f\"total CHAOS:{CHAOS}\")\n",
    "# for name in proj_list:\n",
    "#     sub_adata_tmp = sub_adata[sub_adata.obs['batch_name'] == name]\n",
    "#     CHAOS = compute_CHAOS(sub_adata_tmp, f'mclust')\n",
    "#     print(f\"{CHAOS}\")"
   ],
   "metadata": {
    "collapsed": false,
    "ExecuteTime": {
     "end_time": "2025-04-10T08:32:22.001084600Z",
     "start_time": "2025-04-10T08:32:21.995554800Z"
    }
   },
   "id": "ea255f2328f3af85"
  },
  {
   "cell_type": "code",
   "execution_count": 17,
   "outputs": [],
   "source": [
    "# sub_adata = adata[~pd.isnull(adata.obs['layer_guess'])]\n",
    "# PAS = compute_PAS(sub_adata, f'mclust')\n",
    "# print(f\"total PAS:{PAS}\")\n",
    "# for name in proj_list:\n",
    "#     sub_adata_tmp = sub_adata[sub_adata.obs['batch_name'] == name]\n",
    "#     PAS = compute_PAS(sub_adata_tmp, f'mclust')\n",
    "#     print(f\"{PAS}\")"
   ],
   "metadata": {
    "collapsed": false,
    "ExecuteTime": {
     "end_time": "2025-04-10T08:32:22.007804700Z",
     "start_time": "2025-04-10T08:32:21.999063900Z"
    }
   },
   "id": "e757692109506f16"
  },
  {
   "cell_type": "code",
   "execution_count": 18,
   "outputs": [
    {
     "name": "stdout",
     "output_type": "stream",
     "text": [
      "total HOM:0.6396271235886009\n",
      "total COM:0.6198452346108445\n",
      "151673 V:0.6378911926212492\n",
      "151674 V:0.6200261152801346\n",
      "151675 V:0.6712178653205617\n",
      "151676 V:0.6322940622827051\n"
     ]
    }
   ],
   "source": [
    "sub_adata = adata[~pd.isnull(adata.obs['layer_guess'])]\n",
    "HOM = hom_score(sub_adata.obs['layer_guess'], sub_adata.obs['mclust'])\n",
    "print(f\"total HOM:{HOM}\")\n",
    "COM = com_score(sub_adata.obs['layer_guess'], sub_adata.obs['mclust'])\n",
    "print(f\"total COM:{COM}\")\n",
    "for name in proj_list:\n",
    "    sub_adata_tmp = sub_adata[sub_adata.obs['batch_name'] == name]\n",
    "    HOM = hom_score(sub_adata_tmp.obs['layer_guess'], sub_adata_tmp.obs['mclust'])\n",
    "    COM = com_score(sub_adata_tmp.obs['layer_guess'], sub_adata_tmp.obs['mclust'])\n",
    "    V =  2 * ((HOM * COM) / (HOM + COM))\n",
    "    print(f\"{name} V:{V}\")"
   ],
   "metadata": {
    "collapsed": false,
    "ExecuteTime": {
     "end_time": "2025-04-10T08:32:22.129024700Z",
     "start_time": "2025-04-10T08:32:22.008797500Z"
    }
   },
   "id": "938de684ef4010ad"
  },
  {
   "cell_type": "code",
   "execution_count": 19,
   "outputs": [
    {
     "name": "stdout",
     "output_type": "stream",
     "text": [
      "2.810926505648111\n",
      "1.2497532117811603\n"
     ]
    },
    {
     "data": {
      "text/plain": "<Figure size 400x500 with 2 Axes>",
      "image/png": "[encoded data removed]"
     },
     "metadata": {},
     "output_type": "display_data"
    }
   ],
   "source": [
    "import harmonypy as hm\n",
    "\n",
    "iLISI = hm.compute_lisi(adata.obsm['SEDR'], adata.obs[['batch_name']], label_colnames=['batch_name'])[:, 0]\n",
    "cLISI = hm.compute_lisi(adata.obsm['SEDR'], adata.obs[['layer_guess']], label_colnames=['layer_guess'])[:, 0]\n",
    "df_iLISI = pd.DataFrame({\n",
    "    'method': 'SEDR',\n",
    "    'value': iLISI,\n",
    "    'type': ['ILISI'] * len(iLISI)\n",
    "})\n",
    "\n",
    "df_cLISI = pd.DataFrame({\n",
    "    'method': 'SEDR',\n",
    "    'value': cLISI,\n",
    "    'type': ['CLISI'] * len(cLISI)\n",
    "})\n",
    "\n",
    "fig, axes = plt.subplots(1, 2, figsize=(4, 5))\n",
    "sns.boxplot(data=df_iLISI, x='method', y='value', ax=axes[0])\n",
    "sns.boxplot(data=df_cLISI, x='method', y='value', ax=axes[1])\n",
    "axes[0].set_ylim(1, 3)\n",
    "axes[1].set_ylim(1, 7)\n",
    "axes[0].set_title('iLISI')\n",
    "axes[1].set_title('cLISI')\n",
    "\n",
    "plt.tight_layout()\n",
    "print(np.median(iLISI))\n",
    "print(np.median(cLISI))"
   ],
   "metadata": {
    "collapsed": false,
    "ExecuteTime": {
     "end_time": "2025-04-10T08:32:39.697088300Z",
     "start_time": "2025-04-10T08:32:22.098837200Z"
    }
   },
   "id": "2122adcc508be47d"
  },
  {
   "cell_type": "code",
   "execution_count": 20,
   "outputs": [],
   "source": [
    "#heatmap"
   ],
   "metadata": {
    "collapsed": false,
    "ExecuteTime": {
     "end_time": "2025-04-10T08:32:39.705098700Z",
     "start_time": "2025-04-10T08:32:39.698119400Z"
    }
   },
   "id": "aba5049ff60c1b60"
  },
  {
   "cell_type": "code",
   "execution_count": 21,
   "outputs": [],
   "source": [
    "embedding = adata.obsm['SEDR']\n",
    "\n",
    "# 获取空间域标签\n",
    "domain_labels = adata.obs['layer_guess']\n",
    "\n",
    "df = pd.DataFrame(embedding, columns=[f'Dim{i+1}' for i in range(embedding.shape[1])])\n",
    "df['Domain'] = domain_labels.values"
   ],
   "metadata": {
    "collapsed": false,
    "ExecuteTime": {
     "end_time": "2025-04-10T08:32:39.711671100Z",
     "start_time": "2025-04-10T08:32:39.701635500Z"
    }
   },
   "id": "12fd594c6351a493"
  },
  {
   "cell_type": "code",
   "execution_count": 22,
   "outputs": [],
   "source": [
    "# 按域计算平均值\n",
    "mean_embedding_by_domain = df.groupby('Domain').mean()\n",
    "\n",
    "# 计算 Pearson 相关系数矩阵\n",
    "correlation_matrix = mean_embedding_by_domain.T.corr()"
   ],
   "metadata": {
    "collapsed": false,
    "ExecuteTime": {
     "end_time": "2025-04-10T08:32:39.779143600Z",
     "start_time": "2025-04-10T08:32:39.712740Z"
    }
   },
   "id": "18a494908e63bb50"
  },
  {
   "cell_type": "code",
   "execution_count": 23,
   "outputs": [
    {
     "data": {
      "text/plain": "<Figure size 800x800 with 2 Axes>",
      "image/png": "[encoded data removed]"
     },
     "metadata": {},
     "output_type": "display_data"
    }
   ],
   "source": [
    "# 设置画布大小\n",
    "plt.figure(figsize=(8, 8))\n",
    "\n",
    "# 使用 seaborn 绘制热图\n",
    "sns.heatmap(\n",
    "    correlation_matrix, \n",
    "    cmap=\"coolwarm\",       # 色带，可以选择 \"coolwarm\" 或 \"RdBu_r\"\n",
    "    annot=False,           # 是否显示数字\n",
    "    xticklabels=True,      # 显示横轴标签\n",
    "    yticklabels=True,      # 显示纵轴标签\n",
    "    cbar_kws={'label': 'PCC'}  # 添加颜色条标签\n",
    ")\n",
    "\n",
    "# 添加标题\n",
    "plt.title('Spatial Domain Relationship (PCC)', fontsize=16)\n",
    "plt.xlabel('Domains', fontsize=12)\n",
    "plt.ylabel('Domains', fontsize=12)\n",
    "\n",
    "# 保存图片\n",
    "plt.tight_layout()\n",
    "plt.savefig(\"domain_relationship_heatmap.png\", dpi=300)\n",
    "plt.show()\n"
   ],
   "metadata": {
    "collapsed": false,
    "ExecuteTime": {
     "end_time": "2025-04-10T08:32:40.107044900Z",
     "start_time": "2025-04-10T08:32:39.723843700Z"
    }
   },
   "id": "d0827459bec5973e"
  },
  {
   "cell_type": "code",
   "execution_count": 24,
   "outputs": [],
   "source": [
    "#sc.pl.correlation_matrix"
   ],
   "metadata": {
    "collapsed": false,
    "ExecuteTime": {
     "end_time": "2025-04-10T08:32:40.115322Z",
     "start_time": "2025-04-10T08:32:40.108045100Z"
    }
   },
   "id": "6fea772b97c556c1"
  },
  {
   "cell_type": "code",
   "execution_count": 25,
   "outputs": [
    {
     "ename": "ValueError",
     "evalue": "b'Extrapolation not allowed with blending'",
     "output_type": "error",
     "traceback": [
      "\u001B[1;31m---------------------------------------------------------------------------\u001B[0m",
      "\u001B[1;31mValueError\u001B[0m                                Traceback (most recent call last)",
      "Cell \u001B[1;32mIn[25], line 1\u001B[0m\n\u001B[1;32m----> 1\u001B[0m sc\u001B[38;5;241m.\u001B[39mpp\u001B[38;5;241m.\u001B[39mhighly_variable_genes(adata, flavor\u001B[38;5;241m=\u001B[39m\u001B[38;5;124m\"\u001B[39m\u001B[38;5;124mseurat_v3\u001B[39m\u001B[38;5;124m\"\u001B[39m, n_top_genes\u001B[38;5;241m=\u001B[39m\u001B[38;5;241m3000\u001B[39m)\n\u001B[0;32m      2\u001B[0m sc\u001B[38;5;241m.\u001B[39mpp\u001B[38;5;241m.\u001B[39mnormalize_total(adata, target_sum\u001B[38;5;241m=\u001B[39m\u001B[38;5;241m1e4\u001B[39m)\n\u001B[0;32m      3\u001B[0m sc\u001B[38;5;241m.\u001B[39mpp\u001B[38;5;241m.\u001B[39mlog1p(adata)\n",
      "File \u001B[1;32mD:\\anaconda\\envs\\njy\\Lib\\site-packages\\legacy_api_wrap\\__init__.py:80\u001B[0m, in \u001B[0;36mlegacy_api.<locals>.wrapper.<locals>.fn_compatible\u001B[1;34m(*args_all, **kw)\u001B[0m\n\u001B[0;32m     77\u001B[0m \u001B[38;5;129m@wraps\u001B[39m(fn)\n\u001B[0;32m     78\u001B[0m \u001B[38;5;28;01mdef\u001B[39;00m \u001B[38;5;21mfn_compatible\u001B[39m(\u001B[38;5;241m*\u001B[39margs_all: P\u001B[38;5;241m.\u001B[39margs, \u001B[38;5;241m*\u001B[39m\u001B[38;5;241m*\u001B[39mkw: P\u001B[38;5;241m.\u001B[39mkwargs) \u001B[38;5;241m-\u001B[39m\u001B[38;5;241m>\u001B[39m R:\n\u001B[0;32m     79\u001B[0m     \u001B[38;5;28;01mif\u001B[39;00m \u001B[38;5;28mlen\u001B[39m(args_all) \u001B[38;5;241m<\u001B[39m\u001B[38;5;241m=\u001B[39m n_positional:\n\u001B[1;32m---> 80\u001B[0m         \u001B[38;5;28;01mreturn\u001B[39;00m fn(\u001B[38;5;241m*\u001B[39margs_all, \u001B[38;5;241m*\u001B[39m\u001B[38;5;241m*\u001B[39mkw)\n\u001B[0;32m     82\u001B[0m     args_pos: P\u001B[38;5;241m.\u001B[39margs\n\u001B[0;32m     83\u001B[0m     args_pos, args_rest \u001B[38;5;241m=\u001B[39m args_all[:n_positional], args_all[n_positional:]\n",
      "File \u001B[1;32mD:\\anaconda\\envs\\njy\\Lib\\site-packages\\scanpy\\preprocessing\\_highly_variable_genes.py:658\u001B[0m, in \u001B[0;36mhighly_variable_genes\u001B[1;34m(adata, layer, n_top_genes, min_disp, max_disp, min_mean, max_mean, span, n_bins, flavor, subset, inplace, batch_key, check_values)\u001B[0m\n\u001B[0;32m    656\u001B[0m         sig \u001B[38;5;241m=\u001B[39m signature(_highly_variable_genes_seurat_v3)\n\u001B[0;32m    657\u001B[0m         n_top_genes \u001B[38;5;241m=\u001B[39m cast(\u001B[38;5;28mint\u001B[39m, sig\u001B[38;5;241m.\u001B[39mparameters[\u001B[38;5;124m\"\u001B[39m\u001B[38;5;124mn_top_genes\u001B[39m\u001B[38;5;124m\"\u001B[39m]\u001B[38;5;241m.\u001B[39mdefault)\n\u001B[1;32m--> 658\u001B[0m     \u001B[38;5;28;01mreturn\u001B[39;00m _highly_variable_genes_seurat_v3(\n\u001B[0;32m    659\u001B[0m         adata,\n\u001B[0;32m    660\u001B[0m         flavor\u001B[38;5;241m=\u001B[39mflavor,\n\u001B[0;32m    661\u001B[0m         layer\u001B[38;5;241m=\u001B[39mlayer,\n\u001B[0;32m    662\u001B[0m         n_top_genes\u001B[38;5;241m=\u001B[39mn_top_genes,\n\u001B[0;32m    663\u001B[0m         batch_key\u001B[38;5;241m=\u001B[39mbatch_key,\n\u001B[0;32m    664\u001B[0m         check_values\u001B[38;5;241m=\u001B[39mcheck_values,\n\u001B[0;32m    665\u001B[0m         span\u001B[38;5;241m=\u001B[39mspan,\n\u001B[0;32m    666\u001B[0m         subset\u001B[38;5;241m=\u001B[39msubset,\n\u001B[0;32m    667\u001B[0m         inplace\u001B[38;5;241m=\u001B[39minplace,\n\u001B[0;32m    668\u001B[0m     )\n\u001B[0;32m    670\u001B[0m cutoff \u001B[38;5;241m=\u001B[39m _Cutoffs\u001B[38;5;241m.\u001B[39mvalidate(\n\u001B[0;32m    671\u001B[0m     n_top_genes\u001B[38;5;241m=\u001B[39mn_top_genes,\n\u001B[0;32m    672\u001B[0m     min_disp\u001B[38;5;241m=\u001B[39mmin_disp,\n\u001B[1;32m   (...)\u001B[0m\n\u001B[0;32m    675\u001B[0m     max_mean\u001B[38;5;241m=\u001B[39mmax_mean,\n\u001B[0;32m    676\u001B[0m )\n\u001B[0;32m    677\u001B[0m \u001B[38;5;28;01mdel\u001B[39;00m min_disp, max_disp, min_mean, max_mean, n_top_genes\n",
      "File \u001B[1;32mD:\\anaconda\\envs\\njy\\Lib\\site-packages\\scanpy\\preprocessing\\_highly_variable_genes.py:98\u001B[0m, in \u001B[0;36m_highly_variable_genes_seurat_v3\u001B[1;34m(adata, flavor, layer, n_top_genes, batch_key, check_values, span, subset, inplace)\u001B[0m\n\u001B[0;32m     96\u001B[0m x \u001B[38;5;241m=\u001B[39m np\u001B[38;5;241m.\u001B[39mlog10(mean[not_const])\n\u001B[0;32m     97\u001B[0m model \u001B[38;5;241m=\u001B[39m loess(x, y, span\u001B[38;5;241m=\u001B[39mspan, degree\u001B[38;5;241m=\u001B[39m\u001B[38;5;241m2\u001B[39m)\n\u001B[1;32m---> 98\u001B[0m model\u001B[38;5;241m.\u001B[39mfit()\n\u001B[0;32m     99\u001B[0m estimat_var[not_const] \u001B[38;5;241m=\u001B[39m model\u001B[38;5;241m.\u001B[39moutputs\u001B[38;5;241m.\u001B[39mfitted_values\n\u001B[0;32m    100\u001B[0m reg_std \u001B[38;5;241m=\u001B[39m np\u001B[38;5;241m.\u001B[39msqrt(\u001B[38;5;241m10\u001B[39m\u001B[38;5;241m*\u001B[39m\u001B[38;5;241m*\u001B[39mestimat_var)\n",
      "File \u001B[1;32m_loess.pyx:927\u001B[0m, in \u001B[0;36m_loess.loess.fit\u001B[1;34m()\u001B[0m\n",
      "\u001B[1;31mValueError\u001B[0m: b'Extrapolation not allowed with blending'"
     ]
    }
   ],
   "source": [
    "sc.pp.highly_variable_genes(adata, flavor=\"seurat_v3\", n_top_genes=3000)\n",
    "sc.pp.normalize_total(adata, target_sum=1e4)\n",
    "sc.pp.log1p(adata)\n",
    "sc.pp.scale(adata, zero_center=False, max_value=10)\n",
    "adata=adata[:, adata.var['highly_variable']]"
   ],
   "metadata": {
    "collapsed": false,
    "ExecuteTime": {
     "end_time": "2025-04-10T08:32:41.271012400Z",
     "start_time": "2025-04-10T08:32:40.111170300Z"
    }
   },
   "id": "4df0343b81018fe9"
  },
  {
   "cell_type": "code",
   "execution_count": null,
   "outputs": [],
   "source": [
    "sorted_indices = np.argsort(adata.obs['layer_guess'].values)\n",
    "adata = adata[sorted_indices, :]\n",
    "\n",
    "sc.pl.correlation_matrix(adata, 'layer_guess', figsize=(8,6),show=True)"
   ],
   "metadata": {
    "collapsed": false,
    "ExecuteTime": {
     "end_time": "2025-04-10T08:32:41.273397Z",
     "start_time": "2025-04-10T08:32:41.272295100Z"
    }
   },
   "id": "a75afb0966f57855"
  },
  {
   "cell_type": "code",
   "execution_count": null,
   "outputs": [],
   "source": [
    "sc.pl.correlation_matrix(adata, 'mclust', figsize=(8,6),show=True)"
   ],
   "metadata": {
    "collapsed": false,
    "ExecuteTime": {
     "start_time": "2025-04-10T08:32:41.273397Z"
    }
   },
   "id": "7e639b4aa2bae443"
  },
  {
   "cell_type": "code",
   "execution_count": null,
   "outputs": [],
   "source": [
    "##find marker genes"
   ],
   "metadata": {
    "collapsed": false,
    "ExecuteTime": {
     "start_time": "2025-04-10T08:32:41.275490400Z"
    }
   },
   "id": "e3b609986f82463b"
  },
  {
   "cell_type": "code",
   "execution_count": null,
   "outputs": [],
   "source": [
    "adata = sc.read_h5ad('Readout1/Ours_DLPFC_151673')"
   ],
   "metadata": {
    "collapsed": false,
    "ExecuteTime": {
     "start_time": "2025-04-10T08:32:41.275490400Z"
    }
   },
   "id": "6968a35acdae9bc3"
  },
  {
   "cell_type": "code",
   "execution_count": null,
   "outputs": [],
   "source": [
    "# proj_list = [\n",
    "#     '151507', '151508', '151509', '151510' \n",
    "# ]\n",
    "# proj_list = [\n",
    "#     '151669', '151670', '151671', '151672' \n",
    "# ]\n",
    "proj_list = [\n",
    "    '151673', '151674', '151675', '151676' \n",
    "]"
   ],
   "metadata": {
    "collapsed": false,
    "ExecuteTime": {
     "start_time": "2025-04-10T08:32:41.277001200Z"
    }
   },
   "id": "619c3a24d5a087c4"
  },
  {
   "cell_type": "code",
   "execution_count": null,
   "outputs": [],
   "source": [
    "# sc.tl.rank_genes_groups(adata, groupby=\"mclust\", method=\"wilcoxon\")\n",
    "# sc.pl.rank_genes_groups(adata, n_genes=20)"
   ],
   "metadata": {
    "collapsed": false,
    "ExecuteTime": {
     "start_time": "2025-04-10T08:32:41.279149800Z"
    }
   },
   "id": "f8a9748837762934"
  },
  {
   "cell_type": "code",
   "execution_count": null,
   "outputs": [],
   "source": [
    "import matplotlib.colors as clr\n",
    "from scipy.sparse import issparse"
   ],
   "metadata": {
    "collapsed": false,
    "ExecuteTime": {
     "start_time": "2025-04-10T08:32:41.280147200Z"
    }
   },
   "id": "7de8c1ab982212e"
  },
  {
   "cell_type": "code",
   "execution_count": null,
   "outputs": [],
   "source": [
    "plt.rcParams['axes.facecolor'] = 'lightgray'  # 设置子图的背景颜色\n",
    "plt.rcParams['figure.facecolor'] = 'lightgray'  # 设置整张图的背景颜色"
   ],
   "metadata": {
    "collapsed": false,
    "ExecuteTime": {
     "end_time": "2025-04-10T08:32:41.286771500Z",
     "start_time": "2025-04-10T08:32:41.281654Z"
    }
   },
   "id": "509b15e0d11b4fde"
  },
  {
   "cell_type": "code",
   "execution_count": null,
   "outputs": [],
   "source": [
    "gene_list = ['TMSB10']\n",
    "\n",
    "color_self = clr.LinearSegmentedColormap.from_list('pink_green', ['#450756', '#451464', '#426189', '#2BD32B', '#F9F871'], N=256)"
   ],
   "metadata": {
    "collapsed": false,
    "ExecuteTime": {
     "start_time": "2025-04-10T08:32:41.282169200Z"
    }
   },
   "id": "2a158c196e4796b7"
  },
  {
   "cell_type": "code",
   "execution_count": null,
   "outputs": [],
   "source": [
    "for name in proj_list:\n",
    "    adata_tmp = adata[adata.obs['batch_name'] == name]\n",
    "    print(adata_tmp)\n",
    "    for gene_raw in gene_list:\n",
    "        print(gene_raw in adata_tmp.var.index)  # 检查基因是否存在\n",
    "        idx = adata_tmp.var.index.tolist().index(gene_raw)  #输出基因的idx\n",
    "        adata_tmp.obs[f'{gene_raw}(raw)'] = np.array(adata_tmp.X[:, idx]) # 稀疏矩阵转为密集矩阵\n",
    "        sc_ = sc.pl.spatial(adata_tmp, img_key=\"hires\",\n",
    "                      color=f'{gene_raw}(raw)',\n",
    "                      title=gene_raw,\n",
    "                      color_map=color_self,\n",
    "                      spot_size=200)\n",
    "        \n",
    "        # plt.savefig('result/'+gene_raw+'_'+name+'.png', dpi=300)\n",
    "        # plt.close()\n",
    "        # \n",
    "        # print(f\"Image saved as result/{gene_raw}_{name}.png\")"
   ],
   "metadata": {
    "collapsed": false,
    "ExecuteTime": {
     "start_time": "2025-04-10T08:32:41.283190500Z"
    }
   },
   "id": "ec045848e54d9bae"
  },
  {
   "cell_type": "code",
   "execution_count": null,
   "outputs": [],
   "source": [],
   "metadata": {
    "collapsed": false,
    "ExecuteTime": {
     "start_time": "2025-04-10T08:32:41.284414800Z"
    }
   },
   "id": "712b4535f51c79f9"
  }
 ],
 "metadata": {
  "kernelspec": {
   "display_name": "Python 3",
   "language": "python",
   "name": "python3"
  },
  "language_info": {
   "codemirror_mode": {
    "name": "ipython",
    "version": 2
   },
   "file_extension": ".py",
   "mimetype": "text/x-python",
   "name": "python",
   "nbconvert_exporter": "python",
   "pygments_lexer": "ipython2",
   "version": "2.7.6"
  }
 },
 "nbformat": 4,
 "nbformat_minor": 5
}
