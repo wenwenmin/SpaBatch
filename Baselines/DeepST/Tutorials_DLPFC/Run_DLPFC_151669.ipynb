{
 "cells": [
  {
   "cell_type": "code",
   "execution_count": 1,
   "id": "9857ee1b42f44b1b",
   "metadata": {
    "collapsed": true,
    "ExecuteTime": {
     "end_time": "2024-12-29T08:42:15.070678500Z",
     "start_time": "2024-12-29T08:42:08.684578500Z"
    }
   },
   "outputs": [],
   "source": [
    "import os \n",
    "from DeepST_main.DeepST_main.deepst.DeepST import run\n",
    "import matplotlib.pyplot as plt\n",
    "from pathlib import Path\n",
    "import scanpy as sc\n",
    "import pandas as pd\n",
    "import numpy as np"
   ]
  },
  {
   "cell_type": "code",
   "execution_count": 2,
   "outputs": [],
   "source": [
    "from my6_Triplet.utils import fix_seed\n",
    "\n",
    "fix_seed(1)"
   ],
   "metadata": {
    "collapsed": false,
    "ExecuteTime": {
     "end_time": "2024-12-29T08:42:15.084635400Z",
     "start_time": "2024-12-29T08:42:15.071675600Z"
    }
   },
   "id": "5ec27cb3f283dee6"
  },
  {
   "cell_type": "code",
   "execution_count": 3,
   "outputs": [
    {
     "name": "stderr",
     "output_type": "stream",
     "text": [
      "D:\\anaconda\\envs\\njy\\Lib\\site-packages\\anndata\\_core\\anndata.py:1820: UserWarning: Variable names are not unique. To make them unique, call `.var_names_make_unique`.\n",
      "  utils.warn_names_duplicates(\"var\")\n",
      "D:\\anaconda\\envs\\njy\\Lib\\site-packages\\anndata\\_core\\anndata.py:1820: UserWarning: Variable names are not unique. To make them unique, call `.var_names_make_unique`.\n",
      "  utils.warn_names_duplicates(\"var\")\n",
      "Tiling image: 100%|██████████ [ time left: 00:00 ]\n",
      "D:\\anaconda\\envs\\njy\\Lib\\site-packages\\torchvision\\models\\_utils.py:208: UserWarning: The parameter 'pretrained' is deprecated since 0.13 and may be removed in the future, please use 'weights' instead.\n",
      "  warnings.warn(\n",
      "D:\\anaconda\\envs\\njy\\Lib\\site-packages\\torchvision\\models\\_utils.py:223: UserWarning: Arguments other than a weight enum or `None` for 'weights' are deprecated since 0.13 and may be removed in the future. The current behavior is equivalent to passing `weights=ResNet50_Weights.IMAGENET1K_V1`. You can also use `weights=ResNet50_Weights.DEFAULT` to get the most up-to-date weights.\n",
      "  warnings.warn(msg)\n",
      "Extract image feature: 100%|██████████ [ time left: 00:00 ]\n"
     ]
    },
    {
     "name": "stdout",
     "output_type": "stream",
     "text": [
      "Physical distance calculting Done!\n",
      "The number of nearest tie neighbors in physical distance is: 33.158426659382684\n",
      "Gene correlation calculting Done!\n",
      "Morphological similarity calculting Done!\n",
      "The weight result of image feature is added to adata.obsm['weights_matrix_all'] !\n"
     ]
    },
    {
     "name": "stderr",
     "output_type": "stream",
     "text": [
      "Find adjacent spots of each spot: 100%|██████████ [ time left: 00:00 ]\n"
     ]
    },
    {
     "name": "stdout",
     "output_type": "stream",
     "text": [
      "Step 1: Augment molecule expression is Done!\n",
      "12.0000 neighbors per cell on average.\n",
      "Step 2: Graph computing is Done!\n"
     ]
    },
    {
     "name": "stderr",
     "output_type": "stream",
     "text": [
      "D:\\anaconda\\envs\\njy\\Lib\\site-packages\\anndata\\_core\\anndata.py:1820: UserWarning: Variable names are not unique. To make them unique, call `.var_names_make_unique`.\n",
      "  utils.warn_names_duplicates(\"var\")\n",
      "D:\\anaconda\\envs\\njy\\Lib\\site-packages\\anndata\\_core\\anndata.py:1820: UserWarning: Variable names are not unique. To make them unique, call `.var_names_make_unique`.\n",
      "  utils.warn_names_duplicates(\"var\")\n",
      "Tiling image: 100%|██████████ [ time left: 00:00 ]\n",
      "D:\\anaconda\\envs\\njy\\Lib\\site-packages\\torchvision\\models\\_utils.py:208: UserWarning: The parameter 'pretrained' is deprecated since 0.13 and may be removed in the future, please use 'weights' instead.\n",
      "  warnings.warn(\n",
      "D:\\anaconda\\envs\\njy\\Lib\\site-packages\\torchvision\\models\\_utils.py:223: UserWarning: Arguments other than a weight enum or `None` for 'weights' are deprecated since 0.13 and may be removed in the future. The current behavior is equivalent to passing `weights=ResNet50_Weights.IMAGENET1K_V1`. You can also use `weights=ResNet50_Weights.DEFAULT` to get the most up-to-date weights.\n",
      "  warnings.warn(msg)\n",
      "Extract image feature: 100%|██████████ [ time left: 00:00 ]\n"
     ]
    },
    {
     "name": "stdout",
     "output_type": "stream",
     "text": [
      "Physical distance calculting Done!\n",
      "The number of nearest tie neighbors in physical distance is: 32.59862778730703\n",
      "Gene correlation calculting Done!\n",
      "Morphological similarity calculting Done!\n",
      "The weight result of image feature is added to adata.obsm['weights_matrix_all'] !\n"
     ]
    },
    {
     "name": "stderr",
     "output_type": "stream",
     "text": [
      "Find adjacent spots of each spot: 100%|██████████ [ time left: 00:00 ]\n"
     ]
    },
    {
     "name": "stdout",
     "output_type": "stream",
     "text": [
      "Step 1: Augment molecule expression is Done!\n",
      "12.0000 neighbors per cell on average.\n",
      "Step 2: Graph computing is Done!\n"
     ]
    },
    {
     "name": "stderr",
     "output_type": "stream",
     "text": [
      "D:\\anaconda\\envs\\njy\\Lib\\site-packages\\anndata\\_core\\anndata.py:1820: UserWarning: Variable names are not unique. To make them unique, call `.var_names_make_unique`.\n",
      "  utils.warn_names_duplicates(\"var\")\n",
      "D:\\anaconda\\envs\\njy\\Lib\\site-packages\\anndata\\_core\\anndata.py:1820: UserWarning: Variable names are not unique. To make them unique, call `.var_names_make_unique`.\n",
      "  utils.warn_names_duplicates(\"var\")\n",
      "Tiling image: 100%|██████████ [ time left: 00:00 ]\n",
      "D:\\anaconda\\envs\\njy\\Lib\\site-packages\\torchvision\\models\\_utils.py:208: UserWarning: The parameter 'pretrained' is deprecated since 0.13 and may be removed in the future, please use 'weights' instead.\n",
      "  warnings.warn(\n",
      "D:\\anaconda\\envs\\njy\\Lib\\site-packages\\torchvision\\models\\_utils.py:223: UserWarning: Arguments other than a weight enum or `None` for 'weights' are deprecated since 0.13 and may be removed in the future. The current behavior is equivalent to passing `weights=ResNet50_Weights.IMAGENET1K_V1`. You can also use `weights=ResNet50_Weights.DEFAULT` to get the most up-to-date weights.\n",
      "  warnings.warn(msg)\n",
      "Extract image feature: 100%|██████████ [ time left: 00:00 ]\n"
     ]
    },
    {
     "name": "stdout",
     "output_type": "stream",
     "text": [
      "Physical distance calculting Done!\n",
      "The number of nearest tie neighbors in physical distance is: 33.53722627737226\n",
      "Gene correlation calculting Done!\n",
      "Morphological similarity calculting Done!\n",
      "The weight result of image feature is added to adata.obsm['weights_matrix_all'] !\n"
     ]
    },
    {
     "name": "stderr",
     "output_type": "stream",
     "text": [
      "Find adjacent spots of each spot: 100%|██████████ [ time left: 00:00 ]\n"
     ]
    },
    {
     "name": "stdout",
     "output_type": "stream",
     "text": [
      "Step 1: Augment molecule expression is Done!\n",
      "12.0000 neighbors per cell on average.\n",
      "Step 2: Graph computing is Done!\n"
     ]
    },
    {
     "name": "stderr",
     "output_type": "stream",
     "text": [
      "D:\\anaconda\\envs\\njy\\Lib\\site-packages\\anndata\\_core\\anndata.py:1820: UserWarning: Variable names are not unique. To make them unique, call `.var_names_make_unique`.\n",
      "  utils.warn_names_duplicates(\"var\")\n",
      "D:\\anaconda\\envs\\njy\\Lib\\site-packages\\anndata\\_core\\anndata.py:1820: UserWarning: Variable names are not unique. To make them unique, call `.var_names_make_unique`.\n",
      "  utils.warn_names_duplicates(\"var\")\n",
      "Tiling image: 100%|██████████ [ time left: 00:00 ]\n",
      "D:\\anaconda\\envs\\njy\\Lib\\site-packages\\torchvision\\models\\_utils.py:208: UserWarning: The parameter 'pretrained' is deprecated since 0.13 and may be removed in the future, please use 'weights' instead.\n",
      "  warnings.warn(\n",
      "D:\\anaconda\\envs\\njy\\Lib\\site-packages\\torchvision\\models\\_utils.py:223: UserWarning: Arguments other than a weight enum or `None` for 'weights' are deprecated since 0.13 and may be removed in the future. The current behavior is equivalent to passing `weights=ResNet50_Weights.IMAGENET1K_V1`. You can also use `weights=ResNet50_Weights.DEFAULT` to get the most up-to-date weights.\n",
      "  warnings.warn(msg)\n",
      "Extract image feature: 100%|██████████ [ time left: 00:00 ]\n"
     ]
    },
    {
     "name": "stdout",
     "output_type": "stream",
     "text": [
      "Physical distance calculting Done!\n",
      "The number of nearest tie neighbors in physical distance is: 32.58505603985056\n",
      "Gene correlation calculting Done!\n",
      "Morphological similarity calculting Done!\n",
      "The weight result of image feature is added to adata.obsm['weights_matrix_all'] !\n"
     ]
    },
    {
     "name": "stderr",
     "output_type": "stream",
     "text": [
      "Find adjacent spots of each spot: 100%|██████████ [ time left: 00:00 ]\n"
     ]
    },
    {
     "name": "stdout",
     "output_type": "stream",
     "text": [
      "Step 1: Augment molecule expression is Done!\n",
      "12.0000 neighbors per cell on average.\n",
      "Step 2: Graph computing is Done!\n"
     ]
    },
    {
     "name": "stderr",
     "output_type": "stream",
     "text": [
      "D:\\njy\\研二\\论文项目文件\\project1\\DeepST_main\\DeepST_main\\deepst\\DeepST.py:190: FutureWarning: Use anndata.concat instead of AnnData.concatenate, AnnData.concatenate is deprecated and will be removed in the future. See the tutorial for concat at: https://anndata.readthedocs.io/en/latest/concatenation.html\n",
      "  multiple_adata = multiple_adata.concatenate(current_adata)\n",
      "D:\\njy\\研二\\论文项目文件\\project1\\DeepST_main\\DeepST_main\\deepst\\DeepST.py:190: FutureWarning: Use anndata.concat instead of AnnData.concatenate, AnnData.concatenate is deprecated and will be removed in the future. See the tutorial for concat at: https://anndata.readthedocs.io/en/latest/concatenation.html\n",
      "  multiple_adata = multiple_adata.concatenate(current_adata)\n",
      "D:\\njy\\研二\\论文项目文件\\project1\\DeepST_main\\DeepST_main\\deepst\\DeepST.py:190: FutureWarning: Use anndata.concat instead of AnnData.concatenate, AnnData.concatenate is deprecated and will be removed in the future. See the tutorial for concat at: https://anndata.readthedocs.io/en/latest/concatenation.html\n",
      "  multiple_adata = multiple_adata.concatenate(current_adata)\n"
     ]
    },
    {
     "name": "stdout",
     "output_type": "stream",
     "text": [
      "Your task is in full swing, please wait\n"
     ]
    },
    {
     "name": "stderr",
     "output_type": "stream",
     "text": [
      "DeepST trains an initial model: 100%|██████████ [ time left: 00:00 ]\n",
      "DeepST trains a final model:   0%|           [ time left: ? ]D:\\anaconda\\envs\\njy\\Lib\\site-packages\\torch\\nn\\functional.py:2949: UserWarning: reduction: 'mean' divides the total loss by both the batch size and the support size.'batchmean' divides only by the batch size, and aligns with the KL div math definition.'mean' will be changed to behave the same as 'batchmean' in the next major release.\n",
      "  warnings.warn(\n",
      "DeepST trains a final model: |           [ time left: 00:00 ]    \n"
     ]
    },
    {
     "name": "stdout",
     "output_type": "stream",
     "text": [
      "Step 3: DeepST training has been Done!\n",
      "Current memory usage：23.0281 GB\n",
      "Total time: 3.29 minutes\n",
      "Your task has been completed, thank you\n",
      "Of course, you can also perform downstream analysis on the processed data\n"
     ]
    },
    {
     "name": "stderr",
     "output_type": "stream",
     "text": [
      "D:\\njy\\研二\\论文项目文件\\project1\\DeepST_main\\DeepST_main\\deepst\\DeepST.py:165: FutureWarning: In the future, the default backend for leiden will be igraph instead of leidenalg.\n",
      "\n",
      " To achieve the future defaults please pass: flavor=\"igraph\" and n_iterations=2.  directed must also be False to work with igraph's implementation.\n",
      "  sc.tl.leiden(adata, random_state=0, resolution=res)\n"
     ]
    },
    {
     "name": "stdout",
     "output_type": "stream",
     "text": [
      "Best resolution:  0.21999999999999995\n"
     ]
    }
   ],
   "source": [
    "data_path = \"../../../data/DLPFC\" \n",
    "data_name_list = ['151669', '151670', '151671', '151672']\n",
    "save_path = \"../Results\" \n",
    "n_domains = 5\n",
    "\n",
    "deepen = run(save_path = save_path, \n",
    "\ttask = \"Integration\",\n",
    "\tpre_epochs = 800, \n",
    "\tepochs = 1000, \n",
    "\tuse_gpu = True,\n",
    "\t)\n",
    "\n",
    "###### Generate an augmented list of multiple datasets\n",
    "augement_data_list = []\n",
    "graph_list = []\n",
    "for i in range(len(data_name_list)):\n",
    "\tadata = deepen._get_adata(platform=\"Visium\", data_path=data_path, data_name=data_name_list[i])\n",
    "\tadata = deepen._get_image_crop(adata, data_name=data_name_list[i])\n",
    "\tadata = deepen._get_augment(adata, spatial_type=\"LinearRegress\")\n",
    "\tgraph_dict = deepen._get_graph(adata.obsm[\"spatial\"], distType = \"KDTree\")\n",
    "\taugement_data_list.append(adata)\n",
    "\tgraph_list.append(graph_dict)\n",
    "\n",
    "######## Synthetic Datasets and Graphs\n",
    "multiple_adata, multiple_graph = deepen._get_multiple_adata(adata_list = augement_data_list, data_name_list = data_name_list, graph_list = graph_list)\n",
    "\n",
    "###### Enhanced data preprocessing\n",
    "data = deepen._data_process(multiple_adata, pca_n_comps = 200)\n",
    "\n",
    "deepst_embed = deepen._fit(\n",
    "\t\tdata = data,\n",
    "\t\tgraph_dict = multiple_graph,\n",
    "\t\tdomains = multiple_adata.obs[\"batch\"].values,  ##### Input to Domain Adversarial Model\n",
    "\t\tn_domains = len(data_name_list))\n",
    "multiple_adata.obsm[\"DeepST_embed\"] = deepst_embed\n",
    "multiple_adata = deepen._get_cluster_data(multiple_adata, n_domains=n_domains, priori = True)\n",
    "\n",
    "# sc.pp.neighbors(multiple_adata, use_rep='DeepST_embed')\n",
    "# sc.tl.umap(multiple_adata)\n",
    "# sc.pl.umap(multiple_adata, color=[\"DeepST_refine_domain\",\"batch_name\"])\n",
    "# plt.savefig(os.path.join(save_path, f'{\"_\".join(data_name_list)}_umap.pdf'), bbox_inches='tight', dpi=300)\n",
    "\n",
    "# for data_name in data_name_list:\n",
    "# \tadata = multiple_adata[multiple_adata.obs[\"batch_name\"]==data_name]\n",
    "# \tsc.pl.spatial(adata, color='DeepST_refine_domain', frameon = False, spot_size=150)\n",
    "# \tplt.savefig(os.path.join(save_path, f'{data_name}_domains.pdf'), bbox_inches='tight', dpi=300)"
   ],
   "metadata": {
    "collapsed": false,
    "ExecuteTime": {
     "end_time": "2024-12-29T09:05:16.793668200Z",
     "start_time": "2024-12-29T08:42:15.087133600Z"
    }
   },
   "id": "initial_id"
  },
  {
   "cell_type": "markdown",
   "source": [],
   "metadata": {
    "collapsed": false
   },
   "id": "76db592b10ef2141"
  },
  {
   "cell_type": "code",
   "execution_count": 4,
   "outputs": [],
   "source": [
    "from sklearn.metrics import adjusted_rand_score as ari_score\n",
    "from sklearn.metrics import normalized_mutual_info_score as nmi_score\n",
    "from sklearn.metrics import adjusted_mutual_info_score as ami_score\n",
    "from sklearn.metrics import homogeneity_score as hom_score\n",
    "from sklearn.metrics import completeness_score as com_score"
   ],
   "metadata": {
    "collapsed": false,
    "ExecuteTime": {
     "end_time": "2024-12-29T09:05:16.798317300Z",
     "start_time": "2024-12-29T09:05:16.795642200Z"
    }
   },
   "id": "ae514e0c7d339fcf"
  },
  {
   "cell_type": "code",
   "execution_count": 5,
   "outputs": [
    {
     "data": {
      "text/plain": "AnnData object with n_obs × n_vars = 15284 × 33538\n    obs: 'in_tissue', 'array_row', 'array_col', 'imagecol', 'imagerow', 'layer_guess', 'slices_path', 'batch_name', 'batch', 'leiden', 'DeepST_domain', 'DeepST_refine_domain'\n    var: 'gene_ids', 'feature_types', 'genome'\n    uns: 'neighbors', 'leiden', 'DeepST_domain'\n    obsm: 'spatial', 'image_feat', 'image_feat_pca', 'weights_matrix_all', 'adjacent_data', 'augment_gene_data', 'DeepST_embed'\n    obsp: 'distances', 'connectivities'"
     },
     "execution_count": 5,
     "metadata": {},
     "output_type": "execute_result"
    }
   ],
   "source": [
    "multiple_adata"
   ],
   "metadata": {
    "collapsed": false,
    "ExecuteTime": {
     "end_time": "2024-12-29T09:05:16.810991500Z",
     "start_time": "2024-12-29T09:05:16.800342600Z"
    }
   },
   "id": "ac43f43ecff79f21"
  },
  {
   "cell_type": "code",
   "execution_count": 6,
   "outputs": [
    {
     "name": "stdout",
     "output_type": "stream",
     "text": [
      "total ARI:0.40603290872892245\n",
      "151669 ARI:0.3965422088378019\n",
      "151670 ARI:0.4195904074735881\n",
      "151671 ARI:0.4828339824000321\n",
      "151672 ARI:0.3885469259669363\n"
     ]
    }
   ],
   "source": [
    "indices = np.logical_not(multiple_adata.obs[\"layer_guess\"].isna())\n",
    "ground_truth = multiple_adata.obs[\"layer_guess\"].dropna()\n",
    "ARI = ari_score(ground_truth[indices], multiple_adata.obs['DeepST_refine_domain'][indices])\n",
    "print(f\"total ARI:{ARI}\")\n",
    "for name in data_name_list:\n",
    "    sub_adata_tmp = multiple_adata[multiple_adata.obs['batch_name'] == name]\n",
    "    ARI = ari_score(sub_adata_tmp.obs['layer_guess'][indices], sub_adata_tmp.obs['DeepST_refine_domain'][indices])\n",
    "    print(f\"{name} ARI:{ARI}\")"
   ],
   "metadata": {
    "collapsed": false,
    "ExecuteTime": {
     "end_time": "2024-12-29T09:05:17.018401100Z",
     "start_time": "2024-12-29T09:05:16.813510600Z"
    }
   },
   "id": "e5c4f04be1f1eae7"
  },
  {
   "cell_type": "code",
   "execution_count": 7,
   "outputs": [
    {
     "name": "stdout",
     "output_type": "stream",
     "text": [
      "total NMI:0.5372499893695508\n",
      "total NMI:0.5370679458507023\n",
      "ACC:0.5525520908366919\n",
      "ACC:0.5475148468211912\n",
      "ACC:0.614950358155792\n",
      "ACC:0.5525651473116087\n"
     ]
    }
   ],
   "source": [
    "NMI = nmi_score(ground_truth[indices], multiple_adata.obs['DeepST_refine_domain'][indices])\n",
    "AMI = ami_score(ground_truth[indices], multiple_adata.obs['DeepST_refine_domain'][indices])\n",
    "print(f\"total NMI:{NMI}\")\n",
    "print(f\"total NMI:{AMI}\")\n",
    "for name in data_name_list:\n",
    "    sub_adata_tmp = multiple_adata[multiple_adata.obs['batch_name'] == name]\n",
    "    NMI = nmi_score(sub_adata_tmp.obs['layer_guess'][indices], sub_adata_tmp.obs['DeepST_refine_domain'][indices])\n",
    "    AMI = ami_score(sub_adata_tmp.obs['layer_guess'][indices], sub_adata_tmp.obs['DeepST_refine_domain'][indices])\n",
    "    ACC = 1/2 * (NMI + AMI)\n",
    "    print(f\"ACC:{ACC}\")"
   ],
   "metadata": {
    "collapsed": false,
    "ExecuteTime": {
     "end_time": "2024-12-29T09:05:17.272396100Z",
     "start_time": "2024-12-29T09:05:17.020909700Z"
    }
   },
   "id": "2dd26cdad86c6ee2"
  },
  {
   "cell_type": "code",
   "execution_count": 8,
   "outputs": [
    {
     "name": "stdout",
     "output_type": "stream",
     "text": [
      "total HOM:0.5256484113261819\n",
      "total COM:0.5493752419280873\n",
      "V:0.5529324134401481\n",
      "V:0.5478477735939167\n",
      "V:0.6151606268415103\n",
      "V:0.5528186065532887\n"
     ]
    }
   ],
   "source": [
    "HOM = hom_score(ground_truth[indices], multiple_adata.obs['DeepST_refine_domain'][indices])\n",
    "COM = com_score(ground_truth[indices], multiple_adata.obs['DeepST_refine_domain'][indices])\n",
    "print(f\"total HOM:{HOM}\")\n",
    "print(f\"total COM:{COM}\")\n",
    "for name in data_name_list:\n",
    "    sub_adata_tmp = multiple_adata[multiple_adata.obs['batch_name'] == name]\n",
    "    HOM = hom_score(sub_adata_tmp.obs['layer_guess'][indices], sub_adata_tmp.obs['DeepST_refine_domain'][indices])\n",
    "    COM = com_score(sub_adata_tmp.obs['layer_guess'][indices], sub_adata_tmp.obs['DeepST_refine_domain'][indices])\n",
    "    V =  2 * ((HOM * COM) / (HOM + COM))\n",
    "    print(f\"V:{V}\")"
   ],
   "metadata": {
    "collapsed": false,
    "ExecuteTime": {
     "end_time": "2024-12-29T09:05:17.488520100Z",
     "start_time": "2024-12-29T09:05:17.273897400Z"
    }
   },
   "id": "8ac2c23774f42d83"
  },
  {
   "cell_type": "code",
   "execution_count": 9,
   "outputs": [
    {
     "name": "stdout",
     "output_type": "stream",
     "text": [
      "3.056510750545023\n",
      "1.1174885126361551\n"
     ]
    },
    {
     "data": {
      "text/plain": "<Figure size 400x500 with 2 Axes>",
      "image/png": "[encoded data removed]"
     },
     "metadata": {},
     "output_type": "display_data"
    }
   ],
   "source": [
    "import seaborn as sns\n",
    "import harmonypy as hm\n",
    "\n",
    "iLISI = hm.compute_lisi(multiple_adata.obsm['DeepST_embed'], multiple_adata.obs[['batch_name']], label_colnames=['batch_name'])[:, 0]\n",
    "cLISI = hm.compute_lisi(multiple_adata.obsm['DeepST_embed'], multiple_adata.obs[['layer_guess']], label_colnames=['layer_guess'])[:, 0]\n",
    "df_iLISI = pd.DataFrame({\n",
    "    'method': 'DeepST',\n",
    "    'value': iLISI,\n",
    "    'type': ['ILISI'] * len(iLISI)\n",
    "})\n",
    "\n",
    "df_cLISI = pd.DataFrame({\n",
    "    'method': 'DeepST',\n",
    "    'value': cLISI,\n",
    "    'type': ['CLISI'] * len(cLISI)\n",
    "})\n",
    "\n",
    "fig, axes = plt.subplots(1, 2, figsize=(4, 5))\n",
    "sns.boxplot(data=df_iLISI, x='method', y='value', ax=axes[0])\n",
    "sns.boxplot(data=df_cLISI, x='method', y='value', ax=axes[1])\n",
    "axes[0].set_ylim(1, 3)\n",
    "axes[1].set_ylim(1, 7)\n",
    "axes[0].set_title('iLISI')\n",
    "axes[1].set_title('cLISI')\n",
    "\n",
    "plt.tight_layout()\n",
    "print(np.median(iLISI))\n",
    "print(np.median(cLISI))"
   ],
   "metadata": {
    "collapsed": false,
    "ExecuteTime": {
     "end_time": "2024-12-29T09:05:35.105371300Z",
     "start_time": "2024-12-29T09:05:17.493049200Z"
    }
   },
   "id": "d357eba61bc7c04"
  },
  {
   "cell_type": "code",
   "execution_count": 10,
   "outputs": [],
   "source": [
    "multiple_adata.write('DeepST_DLPFC_Donor2.h5ad')"
   ],
   "metadata": {
    "collapsed": false,
    "ExecuteTime": {
     "end_time": "2024-12-29T09:05:47.434297400Z",
     "start_time": "2024-12-29T09:05:35.107876900Z"
    }
   },
   "id": "62b179faa969329f"
  }
 ],
 "metadata": {
  "kernelspec": {
   "display_name": "Python 3",
   "language": "python",
   "name": "python3"
  },
  "language_info": {
   "codemirror_mode": {
    "name": "ipython",
    "version": 2
   },
   "file_extension": ".py",
   "mimetype": "text/x-python",
   "name": "python",
   "nbconvert_exporter": "python",
   "pygments_lexer": "ipython2",
   "version": "2.7.6"
  }
 },
 "nbformat": 4,
 "nbformat_minor": 5
}
